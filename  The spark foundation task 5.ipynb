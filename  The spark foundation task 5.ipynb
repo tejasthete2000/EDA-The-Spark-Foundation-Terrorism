{
 "cells": [
  {
   "cell_type": "markdown",
   "id": "5e656948",
   "metadata": {},
   "source": [
    "# The Spark Foundation "
   ]
  },
  {
   "cell_type": "markdown",
   "id": "8288f597",
   "metadata": {},
   "source": [
    "# Exploratory Data Analysis - Terrorism Dataset"
   ]
  },
  {
   "cell_type": "markdown",
   "id": "9b231348",
   "metadata": {},
   "source": [
    "# Task - 5 == perform Exploratory Data Analysis on Gobal Terrorism"
   ]
  },
  {
   "cell_type": "markdown",
   "id": "0f90299a",
   "metadata": {},
   "source": [
    "@@ find out hot zone of terrorism?"
   ]
  },
  {
   "cell_type": "markdown",
   "id": "f7578087",
   "metadata": {},
   "source": [
    "@@ get usefull insight from dataset?"
   ]
  },
  {
   "cell_type": "code",
   "execution_count": 5,
   "id": "f8c305f0",
   "metadata": {},
   "outputs": [],
   "source": [
    "import pandas as pd"
   ]
  },
  {
   "cell_type": "code",
   "execution_count": 6,
   "id": "9a60cf19",
   "metadata": {},
   "outputs": [],
   "source": [
    "df=pd.read_excel(\"global terrorism.xla\")"
   ]
  },
  {
   "cell_type": "code",
   "execution_count": 7,
   "id": "cb0cfed4",
   "metadata": {},
   "outputs": [
    {
     "data": {
      "text/html": [
       "<div>\n",
       "<style scoped>\n",
       "    .dataframe tbody tr th:only-of-type {\n",
       "        vertical-align: middle;\n",
       "    }\n",
       "\n",
       "    .dataframe tbody tr th {\n",
       "        vertical-align: top;\n",
       "    }\n",
       "\n",
       "    .dataframe thead th {\n",
       "        text-align: right;\n",
       "    }\n",
       "</style>\n",
       "<table border=\"1\" class=\"dataframe\">\n",
       "  <thead>\n",
       "    <tr style=\"text-align: right;\">\n",
       "      <th></th>\n",
       "      <th>eventid</th>\n",
       "      <th>iyear</th>\n",
       "      <th>imonth</th>\n",
       "      <th>iday</th>\n",
       "      <th>approxdate</th>\n",
       "      <th>extended</th>\n",
       "      <th>resolution</th>\n",
       "      <th>country</th>\n",
       "      <th>country_txt</th>\n",
       "      <th>region</th>\n",
       "      <th>...</th>\n",
       "      <th>addnotes</th>\n",
       "      <th>scite1</th>\n",
       "      <th>scite2</th>\n",
       "      <th>scite3</th>\n",
       "      <th>dbsource</th>\n",
       "      <th>INT_LOG</th>\n",
       "      <th>INT_IDEO</th>\n",
       "      <th>INT_MISC</th>\n",
       "      <th>INT_ANY</th>\n",
       "      <th>related</th>\n",
       "    </tr>\n",
       "  </thead>\n",
       "  <tbody>\n",
       "    <tr>\n",
       "      <th>0</th>\n",
       "      <td>197000000001</td>\n",
       "      <td>1970</td>\n",
       "      <td>7</td>\n",
       "      <td>2</td>\n",
       "      <td>NaN</td>\n",
       "      <td>0</td>\n",
       "      <td>NaN</td>\n",
       "      <td>58</td>\n",
       "      <td>Dominican Republic</td>\n",
       "      <td>2</td>\n",
       "      <td>...</td>\n",
       "      <td>NaN</td>\n",
       "      <td>NaN</td>\n",
       "      <td>NaN</td>\n",
       "      <td>NaN</td>\n",
       "      <td>PGIS</td>\n",
       "      <td>0</td>\n",
       "      <td>0</td>\n",
       "      <td>0</td>\n",
       "      <td>0</td>\n",
       "      <td>NaN</td>\n",
       "    </tr>\n",
       "    <tr>\n",
       "      <th>1</th>\n",
       "      <td>197000000002</td>\n",
       "      <td>1970</td>\n",
       "      <td>0</td>\n",
       "      <td>0</td>\n",
       "      <td>NaN</td>\n",
       "      <td>0</td>\n",
       "      <td>NaN</td>\n",
       "      <td>130</td>\n",
       "      <td>Mexico</td>\n",
       "      <td>1</td>\n",
       "      <td>...</td>\n",
       "      <td>NaN</td>\n",
       "      <td>NaN</td>\n",
       "      <td>NaN</td>\n",
       "      <td>NaN</td>\n",
       "      <td>PGIS</td>\n",
       "      <td>0</td>\n",
       "      <td>1</td>\n",
       "      <td>1</td>\n",
       "      <td>1</td>\n",
       "      <td>NaN</td>\n",
       "    </tr>\n",
       "    <tr>\n",
       "      <th>2</th>\n",
       "      <td>197001000001</td>\n",
       "      <td>1970</td>\n",
       "      <td>1</td>\n",
       "      <td>0</td>\n",
       "      <td>NaN</td>\n",
       "      <td>0</td>\n",
       "      <td>NaN</td>\n",
       "      <td>160</td>\n",
       "      <td>Philippines</td>\n",
       "      <td>5</td>\n",
       "      <td>...</td>\n",
       "      <td>NaN</td>\n",
       "      <td>NaN</td>\n",
       "      <td>NaN</td>\n",
       "      <td>NaN</td>\n",
       "      <td>PGIS</td>\n",
       "      <td>-9</td>\n",
       "      <td>-9</td>\n",
       "      <td>1</td>\n",
       "      <td>1</td>\n",
       "      <td>NaN</td>\n",
       "    </tr>\n",
       "    <tr>\n",
       "      <th>3</th>\n",
       "      <td>197001000002</td>\n",
       "      <td>1970</td>\n",
       "      <td>1</td>\n",
       "      <td>0</td>\n",
       "      <td>NaN</td>\n",
       "      <td>0</td>\n",
       "      <td>NaN</td>\n",
       "      <td>78</td>\n",
       "      <td>Greece</td>\n",
       "      <td>8</td>\n",
       "      <td>...</td>\n",
       "      <td>NaN</td>\n",
       "      <td>NaN</td>\n",
       "      <td>NaN</td>\n",
       "      <td>NaN</td>\n",
       "      <td>PGIS</td>\n",
       "      <td>-9</td>\n",
       "      <td>-9</td>\n",
       "      <td>1</td>\n",
       "      <td>1</td>\n",
       "      <td>NaN</td>\n",
       "    </tr>\n",
       "    <tr>\n",
       "      <th>4</th>\n",
       "      <td>197001000003</td>\n",
       "      <td>1970</td>\n",
       "      <td>1</td>\n",
       "      <td>0</td>\n",
       "      <td>NaN</td>\n",
       "      <td>0</td>\n",
       "      <td>NaN</td>\n",
       "      <td>101</td>\n",
       "      <td>Japan</td>\n",
       "      <td>4</td>\n",
       "      <td>...</td>\n",
       "      <td>NaN</td>\n",
       "      <td>NaN</td>\n",
       "      <td>NaN</td>\n",
       "      <td>NaN</td>\n",
       "      <td>PGIS</td>\n",
       "      <td>-9</td>\n",
       "      <td>-9</td>\n",
       "      <td>1</td>\n",
       "      <td>1</td>\n",
       "      <td>NaN</td>\n",
       "    </tr>\n",
       "    <tr>\n",
       "      <th>...</th>\n",
       "      <td>...</td>\n",
       "      <td>...</td>\n",
       "      <td>...</td>\n",
       "      <td>...</td>\n",
       "      <td>...</td>\n",
       "      <td>...</td>\n",
       "      <td>...</td>\n",
       "      <td>...</td>\n",
       "      <td>...</td>\n",
       "      <td>...</td>\n",
       "      <td>...</td>\n",
       "      <td>...</td>\n",
       "      <td>...</td>\n",
       "      <td>...</td>\n",
       "      <td>...</td>\n",
       "      <td>...</td>\n",
       "      <td>...</td>\n",
       "      <td>...</td>\n",
       "      <td>...</td>\n",
       "      <td>...</td>\n",
       "      <td>...</td>\n",
       "    </tr>\n",
       "    <tr>\n",
       "      <th>65530</th>\n",
       "      <td>199706050001</td>\n",
       "      <td>1997</td>\n",
       "      <td>6</td>\n",
       "      <td>5</td>\n",
       "      <td>NaN</td>\n",
       "      <td>0</td>\n",
       "      <td>NaN</td>\n",
       "      <td>6</td>\n",
       "      <td>Algeria</td>\n",
       "      <td>10</td>\n",
       "      <td>...</td>\n",
       "      <td>NaN</td>\n",
       "      <td>NaN</td>\n",
       "      <td>NaN</td>\n",
       "      <td>NaN</td>\n",
       "      <td>PGIS</td>\n",
       "      <td>-9</td>\n",
       "      <td>-9</td>\n",
       "      <td>-9</td>\n",
       "      <td>-9</td>\n",
       "      <td>NaN</td>\n",
       "    </tr>\n",
       "    <tr>\n",
       "      <th>65531</th>\n",
       "      <td>199706050003</td>\n",
       "      <td>1997</td>\n",
       "      <td>6</td>\n",
       "      <td>5</td>\n",
       "      <td>NaN</td>\n",
       "      <td>0</td>\n",
       "      <td>NaN</td>\n",
       "      <td>90</td>\n",
       "      <td>Hungary</td>\n",
       "      <td>9</td>\n",
       "      <td>...</td>\n",
       "      <td>NaN</td>\n",
       "      <td>NaN</td>\n",
       "      <td>NaN</td>\n",
       "      <td>NaN</td>\n",
       "      <td>PGIS</td>\n",
       "      <td>-9</td>\n",
       "      <td>-9</td>\n",
       "      <td>0</td>\n",
       "      <td>-9</td>\n",
       "      <td>199706050003, 199706050004, 199706050004, 1997...</td>\n",
       "    </tr>\n",
       "    <tr>\n",
       "      <th>65532</th>\n",
       "      <td>199706050004</td>\n",
       "      <td>1997</td>\n",
       "      <td>6</td>\n",
       "      <td>5</td>\n",
       "      <td>NaN</td>\n",
       "      <td>0</td>\n",
       "      <td>NaN</td>\n",
       "      <td>90</td>\n",
       "      <td>Hungary</td>\n",
       "      <td>9</td>\n",
       "      <td>...</td>\n",
       "      <td>NaN</td>\n",
       "      <td>NaN</td>\n",
       "      <td>NaN</td>\n",
       "      <td>NaN</td>\n",
       "      <td>PGIS</td>\n",
       "      <td>-9</td>\n",
       "      <td>-9</td>\n",
       "      <td>0</td>\n",
       "      <td>-9</td>\n",
       "      <td>199706050003, 199706050004, 199706050005, 1997...</td>\n",
       "    </tr>\n",
       "    <tr>\n",
       "      <th>65533</th>\n",
       "      <td>199706050005</td>\n",
       "      <td>1997</td>\n",
       "      <td>6</td>\n",
       "      <td>5</td>\n",
       "      <td>NaN</td>\n",
       "      <td>0</td>\n",
       "      <td>NaN</td>\n",
       "      <td>90</td>\n",
       "      <td>Hungary</td>\n",
       "      <td>9</td>\n",
       "      <td>...</td>\n",
       "      <td>NaN</td>\n",
       "      <td>NaN</td>\n",
       "      <td>NaN</td>\n",
       "      <td>NaN</td>\n",
       "      <td>PGIS</td>\n",
       "      <td>-9</td>\n",
       "      <td>-9</td>\n",
       "      <td>0</td>\n",
       "      <td>-9</td>\n",
       "      <td>199706050005, 199706050003, 199706050004, 1997...</td>\n",
       "    </tr>\n",
       "    <tr>\n",
       "      <th>65534</th>\n",
       "      <td>199706050006</td>\n",
       "      <td>1997</td>\n",
       "      <td>6</td>\n",
       "      <td>5</td>\n",
       "      <td>NaN</td>\n",
       "      <td>0</td>\n",
       "      <td>NaN</td>\n",
       "      <td>90</td>\n",
       "      <td>Hungary</td>\n",
       "      <td>9</td>\n",
       "      <td>...</td>\n",
       "      <td>NaN</td>\n",
       "      <td>NaN</td>\n",
       "      <td>NaN</td>\n",
       "      <td>NaN</td>\n",
       "      <td>PGIS</td>\n",
       "      <td>-9</td>\n",
       "      <td>-9</td>\n",
       "      <td>0</td>\n",
       "      <td>-9</td>\n",
       "      <td>199706050006, 199706050003, 199706050004, 1997...</td>\n",
       "    </tr>\n",
       "  </tbody>\n",
       "</table>\n",
       "<p>65535 rows × 135 columns</p>\n",
       "</div>"
      ],
      "text/plain": [
       "            eventid  iyear  imonth  iday approxdate  extended resolution  \\\n",
       "0      197000000001   1970       7     2        NaN         0        NaN   \n",
       "1      197000000002   1970       0     0        NaN         0        NaN   \n",
       "2      197001000001   1970       1     0        NaN         0        NaN   \n",
       "3      197001000002   1970       1     0        NaN         0        NaN   \n",
       "4      197001000003   1970       1     0        NaN         0        NaN   \n",
       "...             ...    ...     ...   ...        ...       ...        ...   \n",
       "65530  199706050001   1997       6     5        NaN         0        NaN   \n",
       "65531  199706050003   1997       6     5        NaN         0        NaN   \n",
       "65532  199706050004   1997       6     5        NaN         0        NaN   \n",
       "65533  199706050005   1997       6     5        NaN         0        NaN   \n",
       "65534  199706050006   1997       6     5        NaN         0        NaN   \n",
       "\n",
       "       country         country_txt  region  ... addnotes scite1 scite2  \\\n",
       "0           58  Dominican Republic       2  ...      NaN    NaN    NaN   \n",
       "1          130              Mexico       1  ...      NaN    NaN    NaN   \n",
       "2          160         Philippines       5  ...      NaN    NaN    NaN   \n",
       "3           78              Greece       8  ...      NaN    NaN    NaN   \n",
       "4          101               Japan       4  ...      NaN    NaN    NaN   \n",
       "...        ...                 ...     ...  ...      ...    ...    ...   \n",
       "65530        6             Algeria      10  ...      NaN    NaN    NaN   \n",
       "65531       90             Hungary       9  ...      NaN    NaN    NaN   \n",
       "65532       90             Hungary       9  ...      NaN    NaN    NaN   \n",
       "65533       90             Hungary       9  ...      NaN    NaN    NaN   \n",
       "65534       90             Hungary       9  ...      NaN    NaN    NaN   \n",
       "\n",
       "       scite3  dbsource  INT_LOG  INT_IDEO INT_MISC INT_ANY  \\\n",
       "0         NaN      PGIS        0         0        0       0   \n",
       "1         NaN      PGIS        0         1        1       1   \n",
       "2         NaN      PGIS       -9        -9        1       1   \n",
       "3         NaN      PGIS       -9        -9        1       1   \n",
       "4         NaN      PGIS       -9        -9        1       1   \n",
       "...       ...       ...      ...       ...      ...     ...   \n",
       "65530     NaN      PGIS       -9        -9       -9      -9   \n",
       "65531     NaN      PGIS       -9        -9        0      -9   \n",
       "65532     NaN      PGIS       -9        -9        0      -9   \n",
       "65533     NaN      PGIS       -9        -9        0      -9   \n",
       "65534     NaN      PGIS       -9        -9        0      -9   \n",
       "\n",
       "                                                 related  \n",
       "0                                                    NaN  \n",
       "1                                                    NaN  \n",
       "2                                                    NaN  \n",
       "3                                                    NaN  \n",
       "4                                                    NaN  \n",
       "...                                                  ...  \n",
       "65530                                                NaN  \n",
       "65531  199706050003, 199706050004, 199706050004, 1997...  \n",
       "65532  199706050003, 199706050004, 199706050005, 1997...  \n",
       "65533  199706050005, 199706050003, 199706050004, 1997...  \n",
       "65534  199706050006, 199706050003, 199706050004, 1997...  \n",
       "\n",
       "[65535 rows x 135 columns]"
      ]
     },
     "execution_count": 7,
     "metadata": {},
     "output_type": "execute_result"
    }
   ],
   "source": [
    "df"
   ]
  },
  {
   "cell_type": "code",
   "execution_count": 8,
   "id": "b5a6c13b",
   "metadata": {},
   "outputs": [
    {
     "data": {
      "text/html": [
       "<div>\n",
       "<style scoped>\n",
       "    .dataframe tbody tr th:only-of-type {\n",
       "        vertical-align: middle;\n",
       "    }\n",
       "\n",
       "    .dataframe tbody tr th {\n",
       "        vertical-align: top;\n",
       "    }\n",
       "\n",
       "    .dataframe thead th {\n",
       "        text-align: right;\n",
       "    }\n",
       "</style>\n",
       "<table border=\"1\" class=\"dataframe\">\n",
       "  <thead>\n",
       "    <tr style=\"text-align: right;\">\n",
       "      <th></th>\n",
       "      <th>eventid</th>\n",
       "      <th>iyear</th>\n",
       "      <th>imonth</th>\n",
       "      <th>iday</th>\n",
       "      <th>approxdate</th>\n",
       "      <th>extended</th>\n",
       "      <th>resolution</th>\n",
       "      <th>country</th>\n",
       "      <th>country_txt</th>\n",
       "      <th>region</th>\n",
       "      <th>...</th>\n",
       "      <th>addnotes</th>\n",
       "      <th>scite1</th>\n",
       "      <th>scite2</th>\n",
       "      <th>scite3</th>\n",
       "      <th>dbsource</th>\n",
       "      <th>INT_LOG</th>\n",
       "      <th>INT_IDEO</th>\n",
       "      <th>INT_MISC</th>\n",
       "      <th>INT_ANY</th>\n",
       "      <th>related</th>\n",
       "    </tr>\n",
       "  </thead>\n",
       "  <tbody>\n",
       "    <tr>\n",
       "      <th>0</th>\n",
       "      <td>197000000001</td>\n",
       "      <td>1970</td>\n",
       "      <td>7</td>\n",
       "      <td>2</td>\n",
       "      <td>NaN</td>\n",
       "      <td>0</td>\n",
       "      <td>NaN</td>\n",
       "      <td>58</td>\n",
       "      <td>Dominican Republic</td>\n",
       "      <td>2</td>\n",
       "      <td>...</td>\n",
       "      <td>NaN</td>\n",
       "      <td>NaN</td>\n",
       "      <td>NaN</td>\n",
       "      <td>NaN</td>\n",
       "      <td>PGIS</td>\n",
       "      <td>0</td>\n",
       "      <td>0</td>\n",
       "      <td>0</td>\n",
       "      <td>0</td>\n",
       "      <td>NaN</td>\n",
       "    </tr>\n",
       "    <tr>\n",
       "      <th>1</th>\n",
       "      <td>197000000002</td>\n",
       "      <td>1970</td>\n",
       "      <td>0</td>\n",
       "      <td>0</td>\n",
       "      <td>NaN</td>\n",
       "      <td>0</td>\n",
       "      <td>NaN</td>\n",
       "      <td>130</td>\n",
       "      <td>Mexico</td>\n",
       "      <td>1</td>\n",
       "      <td>...</td>\n",
       "      <td>NaN</td>\n",
       "      <td>NaN</td>\n",
       "      <td>NaN</td>\n",
       "      <td>NaN</td>\n",
       "      <td>PGIS</td>\n",
       "      <td>0</td>\n",
       "      <td>1</td>\n",
       "      <td>1</td>\n",
       "      <td>1</td>\n",
       "      <td>NaN</td>\n",
       "    </tr>\n",
       "    <tr>\n",
       "      <th>2</th>\n",
       "      <td>197001000001</td>\n",
       "      <td>1970</td>\n",
       "      <td>1</td>\n",
       "      <td>0</td>\n",
       "      <td>NaN</td>\n",
       "      <td>0</td>\n",
       "      <td>NaN</td>\n",
       "      <td>160</td>\n",
       "      <td>Philippines</td>\n",
       "      <td>5</td>\n",
       "      <td>...</td>\n",
       "      <td>NaN</td>\n",
       "      <td>NaN</td>\n",
       "      <td>NaN</td>\n",
       "      <td>NaN</td>\n",
       "      <td>PGIS</td>\n",
       "      <td>-9</td>\n",
       "      <td>-9</td>\n",
       "      <td>1</td>\n",
       "      <td>1</td>\n",
       "      <td>NaN</td>\n",
       "    </tr>\n",
       "    <tr>\n",
       "      <th>3</th>\n",
       "      <td>197001000002</td>\n",
       "      <td>1970</td>\n",
       "      <td>1</td>\n",
       "      <td>0</td>\n",
       "      <td>NaN</td>\n",
       "      <td>0</td>\n",
       "      <td>NaN</td>\n",
       "      <td>78</td>\n",
       "      <td>Greece</td>\n",
       "      <td>8</td>\n",
       "      <td>...</td>\n",
       "      <td>NaN</td>\n",
       "      <td>NaN</td>\n",
       "      <td>NaN</td>\n",
       "      <td>NaN</td>\n",
       "      <td>PGIS</td>\n",
       "      <td>-9</td>\n",
       "      <td>-9</td>\n",
       "      <td>1</td>\n",
       "      <td>1</td>\n",
       "      <td>NaN</td>\n",
       "    </tr>\n",
       "    <tr>\n",
       "      <th>4</th>\n",
       "      <td>197001000003</td>\n",
       "      <td>1970</td>\n",
       "      <td>1</td>\n",
       "      <td>0</td>\n",
       "      <td>NaN</td>\n",
       "      <td>0</td>\n",
       "      <td>NaN</td>\n",
       "      <td>101</td>\n",
       "      <td>Japan</td>\n",
       "      <td>4</td>\n",
       "      <td>...</td>\n",
       "      <td>NaN</td>\n",
       "      <td>NaN</td>\n",
       "      <td>NaN</td>\n",
       "      <td>NaN</td>\n",
       "      <td>PGIS</td>\n",
       "      <td>-9</td>\n",
       "      <td>-9</td>\n",
       "      <td>1</td>\n",
       "      <td>1</td>\n",
       "      <td>NaN</td>\n",
       "    </tr>\n",
       "  </tbody>\n",
       "</table>\n",
       "<p>5 rows × 135 columns</p>\n",
       "</div>"
      ],
      "text/plain": [
       "        eventid  iyear  imonth  iday approxdate  extended resolution  country  \\\n",
       "0  197000000001   1970       7     2        NaN         0        NaN       58   \n",
       "1  197000000002   1970       0     0        NaN         0        NaN      130   \n",
       "2  197001000001   1970       1     0        NaN         0        NaN      160   \n",
       "3  197001000002   1970       1     0        NaN         0        NaN       78   \n",
       "4  197001000003   1970       1     0        NaN         0        NaN      101   \n",
       "\n",
       "          country_txt  region  ... addnotes scite1 scite2  scite3  dbsource  \\\n",
       "0  Dominican Republic       2  ...      NaN    NaN    NaN     NaN      PGIS   \n",
       "1              Mexico       1  ...      NaN    NaN    NaN     NaN      PGIS   \n",
       "2         Philippines       5  ...      NaN    NaN    NaN     NaN      PGIS   \n",
       "3              Greece       8  ...      NaN    NaN    NaN     NaN      PGIS   \n",
       "4               Japan       4  ...      NaN    NaN    NaN     NaN      PGIS   \n",
       "\n",
       "   INT_LOG  INT_IDEO INT_MISC INT_ANY  related  \n",
       "0        0         0        0       0      NaN  \n",
       "1        0         1        1       1      NaN  \n",
       "2       -9        -9        1       1      NaN  \n",
       "3       -9        -9        1       1      NaN  \n",
       "4       -9        -9        1       1      NaN  \n",
       "\n",
       "[5 rows x 135 columns]"
      ]
     },
     "execution_count": 8,
     "metadata": {},
     "output_type": "execute_result"
    }
   ],
   "source": [
    "df.head()"
   ]
  },
  {
   "cell_type": "code",
   "execution_count": 9,
   "id": "2a12ab94",
   "metadata": {},
   "outputs": [
    {
     "name": "stdout",
     "output_type": "stream",
     "text": [
      "<class 'pandas.core.frame.DataFrame'>\n",
      "RangeIndex: 65535 entries, 0 to 65534\n",
      "Columns: 135 entries, eventid to related\n",
      "dtypes: float64(52), int64(26), object(57)\n",
      "memory usage: 67.5+ MB\n"
     ]
    }
   ],
   "source": [
    "df.info()"
   ]
  },
  {
   "cell_type": "markdown",
   "id": "b7408716",
   "metadata": {},
   "source": [
    "2 : describe the dataset for more clarity"
   ]
  },
  {
   "cell_type": "code",
   "execution_count": 10,
   "id": "eb247285",
   "metadata": {},
   "outputs": [
    {
     "data": {
      "text/html": [
       "<div>\n",
       "<style scoped>\n",
       "    .dataframe tbody tr th:only-of-type {\n",
       "        vertical-align: middle;\n",
       "    }\n",
       "\n",
       "    .dataframe tbody tr th {\n",
       "        vertical-align: top;\n",
       "    }\n",
       "\n",
       "    .dataframe thead th {\n",
       "        text-align: right;\n",
       "    }\n",
       "</style>\n",
       "<table border=\"1\" class=\"dataframe\">\n",
       "  <thead>\n",
       "    <tr style=\"text-align: right;\">\n",
       "      <th></th>\n",
       "      <th>eventid</th>\n",
       "      <th>iyear</th>\n",
       "      <th>imonth</th>\n",
       "      <th>iday</th>\n",
       "      <th>extended</th>\n",
       "      <th>country</th>\n",
       "      <th>region</th>\n",
       "      <th>latitude</th>\n",
       "      <th>longitude</th>\n",
       "      <th>specificity</th>\n",
       "      <th>...</th>\n",
       "      <th>ransomamt</th>\n",
       "      <th>ransomamtus</th>\n",
       "      <th>ransompaid</th>\n",
       "      <th>ransompaidus</th>\n",
       "      <th>hostkidoutcome</th>\n",
       "      <th>nreleased</th>\n",
       "      <th>INT_LOG</th>\n",
       "      <th>INT_IDEO</th>\n",
       "      <th>INT_MISC</th>\n",
       "      <th>INT_ANY</th>\n",
       "    </tr>\n",
       "  </thead>\n",
       "  <tbody>\n",
       "    <tr>\n",
       "      <th>count</th>\n",
       "      <td>6.553500e+04</td>\n",
       "      <td>65535.000000</td>\n",
       "      <td>65535.000000</td>\n",
       "      <td>65535.000000</td>\n",
       "      <td>65535.000000</td>\n",
       "      <td>65535.000000</td>\n",
       "      <td>65535.000000</td>\n",
       "      <td>62059.000000</td>\n",
       "      <td>6.205800e+04</td>\n",
       "      <td>65535.000000</td>\n",
       "      <td>...</td>\n",
       "      <td>6.540000e+02</td>\n",
       "      <td>1.0</td>\n",
       "      <td>1.600000e+02</td>\n",
       "      <td>5.000000</td>\n",
       "      <td>1575.000000</td>\n",
       "      <td>1219.000000</td>\n",
       "      <td>65535.000000</td>\n",
       "      <td>65535.000000</td>\n",
       "      <td>65535.000000</td>\n",
       "      <td>65535.000000</td>\n",
       "    </tr>\n",
       "    <tr>\n",
       "      <th>mean</th>\n",
       "      <td>1.986618e+11</td>\n",
       "      <td>1986.552193</td>\n",
       "      <td>6.392447</td>\n",
       "      <td>15.390402</td>\n",
       "      <td>0.018738</td>\n",
       "      <td>147.549020</td>\n",
       "      <td>5.677379</td>\n",
       "      <td>18.127411</td>\n",
       "      <td>-1.402178e+03</td>\n",
       "      <td>1.431754</td>\n",
       "      <td>...</td>\n",
       "      <td>3.435298e+06</td>\n",
       "      <td>20000.0</td>\n",
       "      <td>1.277140e+06</td>\n",
       "      <td>13395.000000</td>\n",
       "      <td>3.125714</td>\n",
       "      <td>7.306809</td>\n",
       "      <td>-3.628534</td>\n",
       "      <td>-3.589090</td>\n",
       "      <td>0.128771</td>\n",
       "      <td>-2.857221</td>\n",
       "    </tr>\n",
       "    <tr>\n",
       "      <th>std</th>\n",
       "      <td>6.336649e+08</td>\n",
       "      <td>6.337192</td>\n",
       "      <td>3.405159</td>\n",
       "      <td>8.807574</td>\n",
       "      <td>0.135600</td>\n",
       "      <td>133.846628</td>\n",
       "      <td>3.199408</td>\n",
       "      <td>24.486707</td>\n",
       "      <td>3.459691e+05</td>\n",
       "      <td>1.109175</td>\n",
       "      <td>...</td>\n",
       "      <td>3.988998e+07</td>\n",
       "      <td>NaN</td>\n",
       "      <td>4.632614e+06</td>\n",
       "      <td>18683.535533</td>\n",
       "      <td>1.462602</td>\n",
       "      <td>34.817908</td>\n",
       "      <td>4.479267</td>\n",
       "      <td>4.531547</td>\n",
       "      <td>0.794551</td>\n",
       "      <td>4.479471</td>\n",
       "    </tr>\n",
       "    <tr>\n",
       "      <th>min</th>\n",
       "      <td>1.970000e+11</td>\n",
       "      <td>1970.000000</td>\n",
       "      <td>0.000000</td>\n",
       "      <td>0.000000</td>\n",
       "      <td>0.000000</td>\n",
       "      <td>4.000000</td>\n",
       "      <td>1.000000</td>\n",
       "      <td>-53.154613</td>\n",
       "      <td>-8.618590e+07</td>\n",
       "      <td>1.000000</td>\n",
       "      <td>...</td>\n",
       "      <td>0.000000e+00</td>\n",
       "      <td>20000.0</td>\n",
       "      <td>0.000000e+00</td>\n",
       "      <td>0.000000</td>\n",
       "      <td>2.000000</td>\n",
       "      <td>-99.000000</td>\n",
       "      <td>-9.000000</td>\n",
       "      <td>-9.000000</td>\n",
       "      <td>-9.000000</td>\n",
       "      <td>-9.000000</td>\n",
       "    </tr>\n",
       "    <tr>\n",
       "      <th>25%</th>\n",
       "      <td>1.982060e+11</td>\n",
       "      <td>1982.000000</td>\n",
       "      <td>3.000000</td>\n",
       "      <td>8.000000</td>\n",
       "      <td>0.000000</td>\n",
       "      <td>61.000000</td>\n",
       "      <td>3.000000</td>\n",
       "      <td>5.549162</td>\n",
       "      <td>-7.569456e+01</td>\n",
       "      <td>1.000000</td>\n",
       "      <td>...</td>\n",
       "      <td>0.000000e+00</td>\n",
       "      <td>20000.0</td>\n",
       "      <td>0.000000e+00</td>\n",
       "      <td>0.000000</td>\n",
       "      <td>2.000000</td>\n",
       "      <td>1.000000</td>\n",
       "      <td>-9.000000</td>\n",
       "      <td>-9.000000</td>\n",
       "      <td>0.000000</td>\n",
       "      <td>-9.000000</td>\n",
       "    </tr>\n",
       "    <tr>\n",
       "      <th>50%</th>\n",
       "      <td>1.987112e+11</td>\n",
       "      <td>1987.000000</td>\n",
       "      <td>6.000000</td>\n",
       "      <td>15.000000</td>\n",
       "      <td>0.000000</td>\n",
       "      <td>110.000000</td>\n",
       "      <td>6.000000</td>\n",
       "      <td>15.047369</td>\n",
       "      <td>-3.696263e+00</td>\n",
       "      <td>1.000000</td>\n",
       "      <td>...</td>\n",
       "      <td>2.050000e+04</td>\n",
       "      <td>20000.0</td>\n",
       "      <td>3.135000e+04</td>\n",
       "      <td>650.000000</td>\n",
       "      <td>2.000000</td>\n",
       "      <td>1.000000</td>\n",
       "      <td>0.000000</td>\n",
       "      <td>0.000000</td>\n",
       "      <td>0.000000</td>\n",
       "      <td>0.000000</td>\n",
       "    </tr>\n",
       "    <tr>\n",
       "      <th>75%</th>\n",
       "      <td>1.991112e+11</td>\n",
       "      <td>1991.000000</td>\n",
       "      <td>9.000000</td>\n",
       "      <td>23.000000</td>\n",
       "      <td>0.000000</td>\n",
       "      <td>183.000000</td>\n",
       "      <td>8.000000</td>\n",
       "      <td>38.395649</td>\n",
       "      <td>3.481189e+01</td>\n",
       "      <td>1.000000</td>\n",
       "      <td>...</td>\n",
       "      <td>5.737500e+05</td>\n",
       "      <td>20000.0</td>\n",
       "      <td>4.020000e+05</td>\n",
       "      <td>26325.000000</td>\n",
       "      <td>4.000000</td>\n",
       "      <td>3.000000</td>\n",
       "      <td>0.000000</td>\n",
       "      <td>0.000000</td>\n",
       "      <td>0.000000</td>\n",
       "      <td>1.000000</td>\n",
       "    </tr>\n",
       "    <tr>\n",
       "      <th>max</th>\n",
       "      <td>1.997061e+11</td>\n",
       "      <td>1997.000000</td>\n",
       "      <td>12.000000</td>\n",
       "      <td>31.000000</td>\n",
       "      <td>1.000000</td>\n",
       "      <td>605.000000</td>\n",
       "      <td>12.000000</td>\n",
       "      <td>64.837778</td>\n",
       "      <td>1.784419e+02</td>\n",
       "      <td>5.000000</td>\n",
       "      <td>...</td>\n",
       "      <td>1.000000e+09</td>\n",
       "      <td>20000.0</td>\n",
       "      <td>4.100000e+07</td>\n",
       "      <td>40000.000000</td>\n",
       "      <td>7.000000</td>\n",
       "      <td>390.000000</td>\n",
       "      <td>1.000000</td>\n",
       "      <td>1.000000</td>\n",
       "      <td>1.000000</td>\n",
       "      <td>1.000000</td>\n",
       "    </tr>\n",
       "  </tbody>\n",
       "</table>\n",
       "<p>8 rows × 78 columns</p>\n",
       "</div>"
      ],
      "text/plain": [
       "            eventid         iyear        imonth          iday      extended  \\\n",
       "count  6.553500e+04  65535.000000  65535.000000  65535.000000  65535.000000   \n",
       "mean   1.986618e+11   1986.552193      6.392447     15.390402      0.018738   \n",
       "std    6.336649e+08      6.337192      3.405159      8.807574      0.135600   \n",
       "min    1.970000e+11   1970.000000      0.000000      0.000000      0.000000   \n",
       "25%    1.982060e+11   1982.000000      3.000000      8.000000      0.000000   \n",
       "50%    1.987112e+11   1987.000000      6.000000     15.000000      0.000000   \n",
       "75%    1.991112e+11   1991.000000      9.000000     23.000000      0.000000   \n",
       "max    1.997061e+11   1997.000000     12.000000     31.000000      1.000000   \n",
       "\n",
       "            country        region      latitude     longitude   specificity  \\\n",
       "count  65535.000000  65535.000000  62059.000000  6.205800e+04  65535.000000   \n",
       "mean     147.549020      5.677379     18.127411 -1.402178e+03      1.431754   \n",
       "std      133.846628      3.199408     24.486707  3.459691e+05      1.109175   \n",
       "min        4.000000      1.000000    -53.154613 -8.618590e+07      1.000000   \n",
       "25%       61.000000      3.000000      5.549162 -7.569456e+01      1.000000   \n",
       "50%      110.000000      6.000000     15.047369 -3.696263e+00      1.000000   \n",
       "75%      183.000000      8.000000     38.395649  3.481189e+01      1.000000   \n",
       "max      605.000000     12.000000     64.837778  1.784419e+02      5.000000   \n",
       "\n",
       "       ...     ransomamt  ransomamtus    ransompaid  ransompaidus  \\\n",
       "count  ...  6.540000e+02          1.0  1.600000e+02      5.000000   \n",
       "mean   ...  3.435298e+06      20000.0  1.277140e+06  13395.000000   \n",
       "std    ...  3.988998e+07          NaN  4.632614e+06  18683.535533   \n",
       "min    ...  0.000000e+00      20000.0  0.000000e+00      0.000000   \n",
       "25%    ...  0.000000e+00      20000.0  0.000000e+00      0.000000   \n",
       "50%    ...  2.050000e+04      20000.0  3.135000e+04    650.000000   \n",
       "75%    ...  5.737500e+05      20000.0  4.020000e+05  26325.000000   \n",
       "max    ...  1.000000e+09      20000.0  4.100000e+07  40000.000000   \n",
       "\n",
       "       hostkidoutcome    nreleased       INT_LOG      INT_IDEO      INT_MISC  \\\n",
       "count     1575.000000  1219.000000  65535.000000  65535.000000  65535.000000   \n",
       "mean         3.125714     7.306809     -3.628534     -3.589090      0.128771   \n",
       "std          1.462602    34.817908      4.479267      4.531547      0.794551   \n",
       "min          2.000000   -99.000000     -9.000000     -9.000000     -9.000000   \n",
       "25%          2.000000     1.000000     -9.000000     -9.000000      0.000000   \n",
       "50%          2.000000     1.000000      0.000000      0.000000      0.000000   \n",
       "75%          4.000000     3.000000      0.000000      0.000000      0.000000   \n",
       "max          7.000000   390.000000      1.000000      1.000000      1.000000   \n",
       "\n",
       "            INT_ANY  \n",
       "count  65535.000000  \n",
       "mean      -2.857221  \n",
       "std        4.479471  \n",
       "min       -9.000000  \n",
       "25%       -9.000000  \n",
       "50%        0.000000  \n",
       "75%        1.000000  \n",
       "max        1.000000  \n",
       "\n",
       "[8 rows x 78 columns]"
      ]
     },
     "execution_count": 10,
     "metadata": {},
     "output_type": "execute_result"
    }
   ],
   "source": [
    "df.describe()"
   ]
  },
  {
   "cell_type": "markdown",
   "id": "5bdbbfec",
   "metadata": {},
   "source": [
    "# find the null value and fill it ?"
   ]
  },
  {
   "cell_type": "code",
   "execution_count": 11,
   "id": "d3fad1a4",
   "metadata": {},
   "outputs": [
    {
     "data": {
      "text/plain": [
       "Index(['eventid', 'iyear', 'imonth', 'iday', 'approxdate', 'extended',\n",
       "       'resolution', 'country', 'country_txt', 'region',\n",
       "       ...\n",
       "       'addnotes', 'scite1', 'scite2', 'scite3', 'dbsource', 'INT_LOG',\n",
       "       'INT_IDEO', 'INT_MISC', 'INT_ANY', 'related'],\n",
       "      dtype='object', length=135)"
      ]
     },
     "execution_count": 11,
     "metadata": {},
     "output_type": "execute_result"
    }
   ],
   "source": [
    "df.columns"
   ]
  },
  {
   "cell_type": "code",
   "execution_count": 12,
   "id": "2f6b2bdd",
   "metadata": {},
   "outputs": [
    {
     "data": {
      "text/plain": [
       "eventid        int64\n",
       "iyear          int64\n",
       "imonth         int64\n",
       "iday           int64\n",
       "approxdate    object\n",
       "               ...  \n",
       "INT_LOG        int64\n",
       "INT_IDEO       int64\n",
       "INT_MISC       int64\n",
       "INT_ANY        int64\n",
       "related       object\n",
       "Length: 135, dtype: object"
      ]
     },
     "execution_count": 12,
     "metadata": {},
     "output_type": "execute_result"
    }
   ],
   "source": [
    "df.dtypes"
   ]
  },
  {
   "cell_type": "code",
   "execution_count": 13,
   "id": "3b5517ce",
   "metadata": {},
   "outputs": [
    {
     "data": {
      "text/plain": [
       "eventid                 0\n",
       "iyear                   0\n",
       "imonth                  0\n",
       "iday                    0\n",
       "approxdate          65505\n",
       "extended                0\n",
       "resolution          64307\n",
       "country                 0\n",
       "country_txt             0\n",
       "region                  0\n",
       "region_txt              0\n",
       "provstate             372\n",
       "city                    0\n",
       "latitude             3476\n",
       "longitude            3477\n",
       "specificity             0\n",
       "vicinity                0\n",
       "location            64695\n",
       "summary             64166\n",
       "crit1                   0\n",
       "crit2                   0\n",
       "crit3                   0\n",
       "doubtterr               0\n",
       "alternative         55184\n",
       "alternative_txt     55184\n",
       "multiple                0\n",
       "success                 0\n",
       "suicide                 0\n",
       "attacktype1             0\n",
       "attacktype1_txt         0\n",
       "attacktype2         65484\n",
       "attacktype2_txt     65484\n",
       "attacktype3         65532\n",
       "attacktype3_txt     65532\n",
       "targtype1               0\n",
       "targtype1_txt           0\n",
       "targsubtype1         3137\n",
       "targsubtype1_txt     3137\n",
       "corp1               31168\n",
       "target1               457\n",
       "natlty1               400\n",
       "natlty1_txt           400\n",
       "targtype2           64801\n",
       "targtype2_txt       64801\n",
       "targsubtype2        64981\n",
       "targsubtype2_txt    64981\n",
       "corp2               65071\n",
       "target2             64885\n",
       "natlty2             64868\n",
       "natlty2_txt         64868\n",
       "dtype: int64"
      ]
     },
     "execution_count": 13,
     "metadata": {},
     "output_type": "execute_result"
    }
   ],
   "source": [
    "df.isnull().sum().head(50) # here we can see in first 50 columns has null value we need to remove or drop this row."
   ]
  },
  {
   "cell_type": "code",
   "execution_count": 14,
   "id": "db278d06",
   "metadata": {},
   "outputs": [
    {
     "data": {
      "text/html": [
       "<div>\n",
       "<style scoped>\n",
       "    .dataframe tbody tr th:only-of-type {\n",
       "        vertical-align: middle;\n",
       "    }\n",
       "\n",
       "    .dataframe tbody tr th {\n",
       "        vertical-align: top;\n",
       "    }\n",
       "\n",
       "    .dataframe thead th {\n",
       "        text-align: right;\n",
       "    }\n",
       "</style>\n",
       "<table border=\"1\" class=\"dataframe\">\n",
       "  <thead>\n",
       "    <tr style=\"text-align: right;\">\n",
       "      <th></th>\n",
       "      <th>eventid</th>\n",
       "      <th>iyear</th>\n",
       "      <th>imonth</th>\n",
       "      <th>iday</th>\n",
       "      <th>approxdate</th>\n",
       "      <th>extended</th>\n",
       "      <th>resolution</th>\n",
       "      <th>country</th>\n",
       "      <th>country_txt</th>\n",
       "      <th>region</th>\n",
       "      <th>...</th>\n",
       "      <th>addnotes</th>\n",
       "      <th>scite1</th>\n",
       "      <th>scite2</th>\n",
       "      <th>scite3</th>\n",
       "      <th>dbsource</th>\n",
       "      <th>INT_LOG</th>\n",
       "      <th>INT_IDEO</th>\n",
       "      <th>INT_MISC</th>\n",
       "      <th>INT_ANY</th>\n",
       "      <th>related</th>\n",
       "    </tr>\n",
       "  </thead>\n",
       "  <tbody>\n",
       "    <tr>\n",
       "      <th>0</th>\n",
       "      <td>197000000001</td>\n",
       "      <td>1970</td>\n",
       "      <td>7</td>\n",
       "      <td>2</td>\n",
       "      <td>NaN</td>\n",
       "      <td>0</td>\n",
       "      <td>NaN</td>\n",
       "      <td>58</td>\n",
       "      <td>Dominican Republic</td>\n",
       "      <td>2</td>\n",
       "      <td>...</td>\n",
       "      <td>NaN</td>\n",
       "      <td>NaN</td>\n",
       "      <td>NaN</td>\n",
       "      <td>NaN</td>\n",
       "      <td>PGIS</td>\n",
       "      <td>0</td>\n",
       "      <td>0</td>\n",
       "      <td>0</td>\n",
       "      <td>0</td>\n",
       "      <td>NaN</td>\n",
       "    </tr>\n",
       "    <tr>\n",
       "      <th>1</th>\n",
       "      <td>197000000002</td>\n",
       "      <td>1970</td>\n",
       "      <td>0</td>\n",
       "      <td>0</td>\n",
       "      <td>NaN</td>\n",
       "      <td>0</td>\n",
       "      <td>NaN</td>\n",
       "      <td>130</td>\n",
       "      <td>Mexico</td>\n",
       "      <td>1</td>\n",
       "      <td>...</td>\n",
       "      <td>NaN</td>\n",
       "      <td>NaN</td>\n",
       "      <td>NaN</td>\n",
       "      <td>NaN</td>\n",
       "      <td>PGIS</td>\n",
       "      <td>0</td>\n",
       "      <td>1</td>\n",
       "      <td>1</td>\n",
       "      <td>1</td>\n",
       "      <td>NaN</td>\n",
       "    </tr>\n",
       "    <tr>\n",
       "      <th>2</th>\n",
       "      <td>197001000001</td>\n",
       "      <td>1970</td>\n",
       "      <td>1</td>\n",
       "      <td>0</td>\n",
       "      <td>NaN</td>\n",
       "      <td>0</td>\n",
       "      <td>NaN</td>\n",
       "      <td>160</td>\n",
       "      <td>Philippines</td>\n",
       "      <td>5</td>\n",
       "      <td>...</td>\n",
       "      <td>NaN</td>\n",
       "      <td>NaN</td>\n",
       "      <td>NaN</td>\n",
       "      <td>NaN</td>\n",
       "      <td>PGIS</td>\n",
       "      <td>-9</td>\n",
       "      <td>-9</td>\n",
       "      <td>1</td>\n",
       "      <td>1</td>\n",
       "      <td>NaN</td>\n",
       "    </tr>\n",
       "    <tr>\n",
       "      <th>3</th>\n",
       "      <td>197001000002</td>\n",
       "      <td>1970</td>\n",
       "      <td>1</td>\n",
       "      <td>0</td>\n",
       "      <td>NaN</td>\n",
       "      <td>0</td>\n",
       "      <td>NaN</td>\n",
       "      <td>78</td>\n",
       "      <td>Greece</td>\n",
       "      <td>8</td>\n",
       "      <td>...</td>\n",
       "      <td>NaN</td>\n",
       "      <td>NaN</td>\n",
       "      <td>NaN</td>\n",
       "      <td>NaN</td>\n",
       "      <td>PGIS</td>\n",
       "      <td>-9</td>\n",
       "      <td>-9</td>\n",
       "      <td>1</td>\n",
       "      <td>1</td>\n",
       "      <td>NaN</td>\n",
       "    </tr>\n",
       "    <tr>\n",
       "      <th>4</th>\n",
       "      <td>197001000003</td>\n",
       "      <td>1970</td>\n",
       "      <td>1</td>\n",
       "      <td>0</td>\n",
       "      <td>NaN</td>\n",
       "      <td>0</td>\n",
       "      <td>NaN</td>\n",
       "      <td>101</td>\n",
       "      <td>Japan</td>\n",
       "      <td>4</td>\n",
       "      <td>...</td>\n",
       "      <td>NaN</td>\n",
       "      <td>NaN</td>\n",
       "      <td>NaN</td>\n",
       "      <td>NaN</td>\n",
       "      <td>PGIS</td>\n",
       "      <td>-9</td>\n",
       "      <td>-9</td>\n",
       "      <td>1</td>\n",
       "      <td>1</td>\n",
       "      <td>NaN</td>\n",
       "    </tr>\n",
       "    <tr>\n",
       "      <th>...</th>\n",
       "      <td>...</td>\n",
       "      <td>...</td>\n",
       "      <td>...</td>\n",
       "      <td>...</td>\n",
       "      <td>...</td>\n",
       "      <td>...</td>\n",
       "      <td>...</td>\n",
       "      <td>...</td>\n",
       "      <td>...</td>\n",
       "      <td>...</td>\n",
       "      <td>...</td>\n",
       "      <td>...</td>\n",
       "      <td>...</td>\n",
       "      <td>...</td>\n",
       "      <td>...</td>\n",
       "      <td>...</td>\n",
       "      <td>...</td>\n",
       "      <td>...</td>\n",
       "      <td>...</td>\n",
       "      <td>...</td>\n",
       "      <td>...</td>\n",
       "    </tr>\n",
       "    <tr>\n",
       "      <th>65530</th>\n",
       "      <td>199706050001</td>\n",
       "      <td>1997</td>\n",
       "      <td>6</td>\n",
       "      <td>5</td>\n",
       "      <td>NaN</td>\n",
       "      <td>0</td>\n",
       "      <td>NaN</td>\n",
       "      <td>6</td>\n",
       "      <td>Algeria</td>\n",
       "      <td>10</td>\n",
       "      <td>...</td>\n",
       "      <td>NaN</td>\n",
       "      <td>NaN</td>\n",
       "      <td>NaN</td>\n",
       "      <td>NaN</td>\n",
       "      <td>PGIS</td>\n",
       "      <td>-9</td>\n",
       "      <td>-9</td>\n",
       "      <td>-9</td>\n",
       "      <td>-9</td>\n",
       "      <td>NaN</td>\n",
       "    </tr>\n",
       "    <tr>\n",
       "      <th>65531</th>\n",
       "      <td>199706050003</td>\n",
       "      <td>1997</td>\n",
       "      <td>6</td>\n",
       "      <td>5</td>\n",
       "      <td>NaN</td>\n",
       "      <td>0</td>\n",
       "      <td>NaN</td>\n",
       "      <td>90</td>\n",
       "      <td>Hungary</td>\n",
       "      <td>9</td>\n",
       "      <td>...</td>\n",
       "      <td>NaN</td>\n",
       "      <td>NaN</td>\n",
       "      <td>NaN</td>\n",
       "      <td>NaN</td>\n",
       "      <td>PGIS</td>\n",
       "      <td>-9</td>\n",
       "      <td>-9</td>\n",
       "      <td>0</td>\n",
       "      <td>-9</td>\n",
       "      <td>199706050003, 199706050004, 199706050004, 1997...</td>\n",
       "    </tr>\n",
       "    <tr>\n",
       "      <th>65532</th>\n",
       "      <td>199706050004</td>\n",
       "      <td>1997</td>\n",
       "      <td>6</td>\n",
       "      <td>5</td>\n",
       "      <td>NaN</td>\n",
       "      <td>0</td>\n",
       "      <td>NaN</td>\n",
       "      <td>90</td>\n",
       "      <td>Hungary</td>\n",
       "      <td>9</td>\n",
       "      <td>...</td>\n",
       "      <td>NaN</td>\n",
       "      <td>NaN</td>\n",
       "      <td>NaN</td>\n",
       "      <td>NaN</td>\n",
       "      <td>PGIS</td>\n",
       "      <td>-9</td>\n",
       "      <td>-9</td>\n",
       "      <td>0</td>\n",
       "      <td>-9</td>\n",
       "      <td>199706050003, 199706050004, 199706050005, 1997...</td>\n",
       "    </tr>\n",
       "    <tr>\n",
       "      <th>65533</th>\n",
       "      <td>199706050005</td>\n",
       "      <td>1997</td>\n",
       "      <td>6</td>\n",
       "      <td>5</td>\n",
       "      <td>NaN</td>\n",
       "      <td>0</td>\n",
       "      <td>NaN</td>\n",
       "      <td>90</td>\n",
       "      <td>Hungary</td>\n",
       "      <td>9</td>\n",
       "      <td>...</td>\n",
       "      <td>NaN</td>\n",
       "      <td>NaN</td>\n",
       "      <td>NaN</td>\n",
       "      <td>NaN</td>\n",
       "      <td>PGIS</td>\n",
       "      <td>-9</td>\n",
       "      <td>-9</td>\n",
       "      <td>0</td>\n",
       "      <td>-9</td>\n",
       "      <td>199706050005, 199706050003, 199706050004, 1997...</td>\n",
       "    </tr>\n",
       "    <tr>\n",
       "      <th>65534</th>\n",
       "      <td>199706050006</td>\n",
       "      <td>1997</td>\n",
       "      <td>6</td>\n",
       "      <td>5</td>\n",
       "      <td>NaN</td>\n",
       "      <td>0</td>\n",
       "      <td>NaN</td>\n",
       "      <td>90</td>\n",
       "      <td>Hungary</td>\n",
       "      <td>9</td>\n",
       "      <td>...</td>\n",
       "      <td>NaN</td>\n",
       "      <td>NaN</td>\n",
       "      <td>NaN</td>\n",
       "      <td>NaN</td>\n",
       "      <td>PGIS</td>\n",
       "      <td>-9</td>\n",
       "      <td>-9</td>\n",
       "      <td>0</td>\n",
       "      <td>-9</td>\n",
       "      <td>199706050006, 199706050003, 199706050004, 1997...</td>\n",
       "    </tr>\n",
       "  </tbody>\n",
       "</table>\n",
       "<p>65535 rows × 135 columns</p>\n",
       "</div>"
      ],
      "text/plain": [
       "            eventid  iyear  imonth  iday approxdate  extended resolution  \\\n",
       "0      197000000001   1970       7     2        NaN         0        NaN   \n",
       "1      197000000002   1970       0     0        NaN         0        NaN   \n",
       "2      197001000001   1970       1     0        NaN         0        NaN   \n",
       "3      197001000002   1970       1     0        NaN         0        NaN   \n",
       "4      197001000003   1970       1     0        NaN         0        NaN   \n",
       "...             ...    ...     ...   ...        ...       ...        ...   \n",
       "65530  199706050001   1997       6     5        NaN         0        NaN   \n",
       "65531  199706050003   1997       6     5        NaN         0        NaN   \n",
       "65532  199706050004   1997       6     5        NaN         0        NaN   \n",
       "65533  199706050005   1997       6     5        NaN         0        NaN   \n",
       "65534  199706050006   1997       6     5        NaN         0        NaN   \n",
       "\n",
       "       country         country_txt  region  ... addnotes scite1 scite2  \\\n",
       "0           58  Dominican Republic       2  ...      NaN    NaN    NaN   \n",
       "1          130              Mexico       1  ...      NaN    NaN    NaN   \n",
       "2          160         Philippines       5  ...      NaN    NaN    NaN   \n",
       "3           78              Greece       8  ...      NaN    NaN    NaN   \n",
       "4          101               Japan       4  ...      NaN    NaN    NaN   \n",
       "...        ...                 ...     ...  ...      ...    ...    ...   \n",
       "65530        6             Algeria      10  ...      NaN    NaN    NaN   \n",
       "65531       90             Hungary       9  ...      NaN    NaN    NaN   \n",
       "65532       90             Hungary       9  ...      NaN    NaN    NaN   \n",
       "65533       90             Hungary       9  ...      NaN    NaN    NaN   \n",
       "65534       90             Hungary       9  ...      NaN    NaN    NaN   \n",
       "\n",
       "       scite3  dbsource  INT_LOG  INT_IDEO INT_MISC INT_ANY  \\\n",
       "0         NaN      PGIS        0         0        0       0   \n",
       "1         NaN      PGIS        0         1        1       1   \n",
       "2         NaN      PGIS       -9        -9        1       1   \n",
       "3         NaN      PGIS       -9        -9        1       1   \n",
       "4         NaN      PGIS       -9        -9        1       1   \n",
       "...       ...       ...      ...       ...      ...     ...   \n",
       "65530     NaN      PGIS       -9        -9       -9      -9   \n",
       "65531     NaN      PGIS       -9        -9        0      -9   \n",
       "65532     NaN      PGIS       -9        -9        0      -9   \n",
       "65533     NaN      PGIS       -9        -9        0      -9   \n",
       "65534     NaN      PGIS       -9        -9        0      -9   \n",
       "\n",
       "                                                 related  \n",
       "0                                                    NaN  \n",
       "1                                                    NaN  \n",
       "2                                                    NaN  \n",
       "3                                                    NaN  \n",
       "4                                                    NaN  \n",
       "...                                                  ...  \n",
       "65530                                                NaN  \n",
       "65531  199706050003, 199706050004, 199706050004, 1997...  \n",
       "65532  199706050003, 199706050004, 199706050005, 1997...  \n",
       "65533  199706050005, 199706050003, 199706050004, 1997...  \n",
       "65534  199706050006, 199706050003, 199706050004, 1997...  \n",
       "\n",
       "[65535 rows x 135 columns]"
      ]
     },
     "execution_count": 14,
     "metadata": {},
     "output_type": "execute_result"
    }
   ],
   "source": [
    "df"
   ]
  },
  {
   "cell_type": "code",
   "execution_count": 15,
   "id": "20f9a0d0",
   "metadata": {},
   "outputs": [],
   "source": [
    "df.drop(['resolution','addnotes','scite1','scite2'],axis=1,inplace=True)"
   ]
  },
  {
   "cell_type": "code",
   "execution_count": 16,
   "id": "11652e1b",
   "metadata": {},
   "outputs": [],
   "source": [
    "df.drop(['target1','natlty1','natlty1_txt','targtype2','targtype2_txt','targsubtype2','targsubtype2_txt','corp2','target2','natlty2','natlty2_txt','targtype3','targtype3_txt'],axis=1,inplace=True)"
   ]
  },
  {
   "cell_type": "code",
   "execution_count": 17,
   "id": "5bbea577",
   "metadata": {},
   "outputs": [],
   "source": [
    "df.drop(['attacktype2','attacktype2_txt','attacktype3','attacktype3_txt','corp1','targsubtype3','targsubtype3_txt','corp3','target3','natlty3','natlty3_txt','gsubname','gname2','gsubname2','gname3','gsubname3','motive'],axis=1,inplace=True)"
   ]
  },
  {
   "cell_type": "code",
   "execution_count": 18,
   "id": "98d15138",
   "metadata": {},
   "outputs": [],
   "source": [
    "df.drop(['guncertain2','guncertain3','nperps','nperpcap','claimed','claimmode','claimmode_txt','claim2','claimmode2','claimmode2_txt','claim3','claimmode3','claimmode3_txt','compclaim'],axis=1,inplace=True)"
   ]
  },
  {
   "cell_type": "code",
   "execution_count": 21,
   "id": "2684bb8a",
   "metadata": {},
   "outputs": [],
   "source": [
    "df.drop(['approxdate','location','summary','weaptype2','weaptype2_txt','weapsubtype2','weapsubtype2_txt','weaptype3','weaptype3_txt','weaptype4','weaptype4_txt','weapsubtype3_txt','weapsubtype3'],axis=1,inplace=True)"
   ]
  },
  {
   "cell_type": "code",
   "execution_count": 24,
   "id": "e8da03aa",
   "metadata": {},
   "outputs": [],
   "source": [
    "df.drop(['weapsubtype4','weapsubtype4_txt','nkillus','nkillter','nwoundus','nwoundte'],axis=1,inplace=True)"
   ]
  },
  {
   "cell_type": "code",
   "execution_count": 30,
   "id": "193f03f7",
   "metadata": {},
   "outputs": [],
   "source": [
    "df.drop(['ransomamt','ransomamtus','ransompaid','ndays','divert','kidhijcountry','nhours','nhostkidus','nhostkid','propcomment','ransompaidus','ransomnote','hostkidoutcome','hostkidoutcome_txt','nreleased','scite3'],axis=1,inplace=True)"
   ]
  },
  {
   "cell_type": "code",
   "execution_count": 31,
   "id": "9c8fb74d",
   "metadata": {},
   "outputs": [
    {
     "data": {
      "text/plain": [
       "imonth                  0\n",
       "iday                    0\n",
       "extended                0\n",
       "country                 0\n",
       "country_txt             0\n",
       "region                  0\n",
       "region_txt              0\n",
       "provstate             372\n",
       "city                    0\n",
       "latitude             3476\n",
       "longitude            3477\n",
       "specificity             0\n",
       "vicinity                0\n",
       "crit1                   0\n",
       "crit2                   0\n",
       "crit3                   0\n",
       "doubtterr               0\n",
       "alternative         55184\n",
       "alternative_txt     55184\n",
       "multiple                0\n",
       "success                 0\n",
       "suicide                 0\n",
       "attacktype1             0\n",
       "attacktype1_txt         0\n",
       "targtype1               0\n",
       "targtype1_txt           0\n",
       "targsubtype1         3137\n",
       "targsubtype1_txt     3137\n",
       "gname                   0\n",
       "guncertain1             0\n",
       "individual              0\n",
       "weaptype1               0\n",
       "weaptype1_txt           0\n",
       "weapsubtype1        11096\n",
       "weapsubtype1_txt    11096\n",
       "weapdetail           6813\n",
       "nkill                6019\n",
       "nwound               8003\n",
       "property                0\n",
       "propextent          48334\n",
       "propextent_txt      48334\n",
       "propvalue           55458\n",
       "ishostkid             175\n",
       "ransom                382\n",
       "dbsource                0\n",
       "INT_LOG                 0\n",
       "INT_IDEO                0\n",
       "INT_MISC                0\n",
       "INT_ANY                 0\n",
       "related             58769\n",
       "dtype: int64"
      ]
     },
     "execution_count": 31,
     "metadata": {},
     "output_type": "execute_result"
    }
   ],
   "source": [
    "df.isnull().sum().tail(50)"
   ]
  },
  {
   "cell_type": "code",
   "execution_count": 33,
   "id": "df4f2435",
   "metadata": {},
   "outputs": [
    {
     "data": {
      "text/html": [
       "<div>\n",
       "<style scoped>\n",
       "    .dataframe tbody tr th:only-of-type {\n",
       "        vertical-align: middle;\n",
       "    }\n",
       "\n",
       "    .dataframe tbody tr th {\n",
       "        vertical-align: top;\n",
       "    }\n",
       "\n",
       "    .dataframe thead th {\n",
       "        text-align: right;\n",
       "    }\n",
       "</style>\n",
       "<table border=\"1\" class=\"dataframe\">\n",
       "  <thead>\n",
       "    <tr style=\"text-align: right;\">\n",
       "      <th></th>\n",
       "      <th>eventid</th>\n",
       "      <th>iyear</th>\n",
       "      <th>imonth</th>\n",
       "      <th>iday</th>\n",
       "      <th>extended</th>\n",
       "      <th>country</th>\n",
       "      <th>country_txt</th>\n",
       "      <th>region</th>\n",
       "      <th>region_txt</th>\n",
       "      <th>provstate</th>\n",
       "      <th>...</th>\n",
       "      <th>propextent_txt</th>\n",
       "      <th>propvalue</th>\n",
       "      <th>ishostkid</th>\n",
       "      <th>ransom</th>\n",
       "      <th>dbsource</th>\n",
       "      <th>INT_LOG</th>\n",
       "      <th>INT_IDEO</th>\n",
       "      <th>INT_MISC</th>\n",
       "      <th>INT_ANY</th>\n",
       "      <th>related</th>\n",
       "    </tr>\n",
       "  </thead>\n",
       "  <tbody>\n",
       "    <tr>\n",
       "      <th>0</th>\n",
       "      <td>197000000001</td>\n",
       "      <td>1970</td>\n",
       "      <td>7</td>\n",
       "      <td>2</td>\n",
       "      <td>0</td>\n",
       "      <td>58</td>\n",
       "      <td>Dominican Republic</td>\n",
       "      <td>2</td>\n",
       "      <td>Central America &amp; Caribbean</td>\n",
       "      <td>NaN</td>\n",
       "      <td>...</td>\n",
       "      <td>NaN</td>\n",
       "      <td>NaN</td>\n",
       "      <td>0.0</td>\n",
       "      <td>0.0</td>\n",
       "      <td>PGIS</td>\n",
       "      <td>0</td>\n",
       "      <td>0</td>\n",
       "      <td>0</td>\n",
       "      <td>0</td>\n",
       "      <td>NaN</td>\n",
       "    </tr>\n",
       "    <tr>\n",
       "      <th>1</th>\n",
       "      <td>197000000002</td>\n",
       "      <td>1970</td>\n",
       "      <td>0</td>\n",
       "      <td>0</td>\n",
       "      <td>0</td>\n",
       "      <td>130</td>\n",
       "      <td>Mexico</td>\n",
       "      <td>1</td>\n",
       "      <td>North America</td>\n",
       "      <td>Federal</td>\n",
       "      <td>...</td>\n",
       "      <td>NaN</td>\n",
       "      <td>NaN</td>\n",
       "      <td>1.0</td>\n",
       "      <td>1.0</td>\n",
       "      <td>PGIS</td>\n",
       "      <td>0</td>\n",
       "      <td>1</td>\n",
       "      <td>1</td>\n",
       "      <td>1</td>\n",
       "      <td>NaN</td>\n",
       "    </tr>\n",
       "    <tr>\n",
       "      <th>2</th>\n",
       "      <td>197001000001</td>\n",
       "      <td>1970</td>\n",
       "      <td>1</td>\n",
       "      <td>0</td>\n",
       "      <td>0</td>\n",
       "      <td>160</td>\n",
       "      <td>Philippines</td>\n",
       "      <td>5</td>\n",
       "      <td>Southeast Asia</td>\n",
       "      <td>Tarlac</td>\n",
       "      <td>...</td>\n",
       "      <td>NaN</td>\n",
       "      <td>NaN</td>\n",
       "      <td>0.0</td>\n",
       "      <td>0.0</td>\n",
       "      <td>PGIS</td>\n",
       "      <td>-9</td>\n",
       "      <td>-9</td>\n",
       "      <td>1</td>\n",
       "      <td>1</td>\n",
       "      <td>NaN</td>\n",
       "    </tr>\n",
       "    <tr>\n",
       "      <th>3</th>\n",
       "      <td>197001000002</td>\n",
       "      <td>1970</td>\n",
       "      <td>1</td>\n",
       "      <td>0</td>\n",
       "      <td>0</td>\n",
       "      <td>78</td>\n",
       "      <td>Greece</td>\n",
       "      <td>8</td>\n",
       "      <td>Western Europe</td>\n",
       "      <td>Attica</td>\n",
       "      <td>...</td>\n",
       "      <td>NaN</td>\n",
       "      <td>NaN</td>\n",
       "      <td>0.0</td>\n",
       "      <td>0.0</td>\n",
       "      <td>PGIS</td>\n",
       "      <td>-9</td>\n",
       "      <td>-9</td>\n",
       "      <td>1</td>\n",
       "      <td>1</td>\n",
       "      <td>NaN</td>\n",
       "    </tr>\n",
       "    <tr>\n",
       "      <th>4</th>\n",
       "      <td>197001000003</td>\n",
       "      <td>1970</td>\n",
       "      <td>1</td>\n",
       "      <td>0</td>\n",
       "      <td>0</td>\n",
       "      <td>101</td>\n",
       "      <td>Japan</td>\n",
       "      <td>4</td>\n",
       "      <td>East Asia</td>\n",
       "      <td>Fukouka</td>\n",
       "      <td>...</td>\n",
       "      <td>NaN</td>\n",
       "      <td>NaN</td>\n",
       "      <td>0.0</td>\n",
       "      <td>0.0</td>\n",
       "      <td>PGIS</td>\n",
       "      <td>-9</td>\n",
       "      <td>-9</td>\n",
       "      <td>1</td>\n",
       "      <td>1</td>\n",
       "      <td>NaN</td>\n",
       "    </tr>\n",
       "    <tr>\n",
       "      <th>...</th>\n",
       "      <td>...</td>\n",
       "      <td>...</td>\n",
       "      <td>...</td>\n",
       "      <td>...</td>\n",
       "      <td>...</td>\n",
       "      <td>...</td>\n",
       "      <td>...</td>\n",
       "      <td>...</td>\n",
       "      <td>...</td>\n",
       "      <td>...</td>\n",
       "      <td>...</td>\n",
       "      <td>...</td>\n",
       "      <td>...</td>\n",
       "      <td>...</td>\n",
       "      <td>...</td>\n",
       "      <td>...</td>\n",
       "      <td>...</td>\n",
       "      <td>...</td>\n",
       "      <td>...</td>\n",
       "      <td>...</td>\n",
       "      <td>...</td>\n",
       "    </tr>\n",
       "    <tr>\n",
       "      <th>65530</th>\n",
       "      <td>199706050001</td>\n",
       "      <td>1997</td>\n",
       "      <td>6</td>\n",
       "      <td>5</td>\n",
       "      <td>0</td>\n",
       "      <td>6</td>\n",
       "      <td>Algeria</td>\n",
       "      <td>10</td>\n",
       "      <td>Middle East &amp; North Africa</td>\n",
       "      <td>Djelfa</td>\n",
       "      <td>...</td>\n",
       "      <td>NaN</td>\n",
       "      <td>NaN</td>\n",
       "      <td>0.0</td>\n",
       "      <td>0.0</td>\n",
       "      <td>PGIS</td>\n",
       "      <td>-9</td>\n",
       "      <td>-9</td>\n",
       "      <td>-9</td>\n",
       "      <td>-9</td>\n",
       "      <td>NaN</td>\n",
       "    </tr>\n",
       "    <tr>\n",
       "      <th>65531</th>\n",
       "      <td>199706050003</td>\n",
       "      <td>1997</td>\n",
       "      <td>6</td>\n",
       "      <td>5</td>\n",
       "      <td>0</td>\n",
       "      <td>90</td>\n",
       "      <td>Hungary</td>\n",
       "      <td>9</td>\n",
       "      <td>Eastern Europe</td>\n",
       "      <td>Budapest</td>\n",
       "      <td>...</td>\n",
       "      <td>NaN</td>\n",
       "      <td>NaN</td>\n",
       "      <td>0.0</td>\n",
       "      <td>0.0</td>\n",
       "      <td>PGIS</td>\n",
       "      <td>-9</td>\n",
       "      <td>-9</td>\n",
       "      <td>0</td>\n",
       "      <td>-9</td>\n",
       "      <td>199706050003, 199706050004, 199706050004, 1997...</td>\n",
       "    </tr>\n",
       "    <tr>\n",
       "      <th>65532</th>\n",
       "      <td>199706050004</td>\n",
       "      <td>1997</td>\n",
       "      <td>6</td>\n",
       "      <td>5</td>\n",
       "      <td>0</td>\n",
       "      <td>90</td>\n",
       "      <td>Hungary</td>\n",
       "      <td>9</td>\n",
       "      <td>Eastern Europe</td>\n",
       "      <td>Budapest</td>\n",
       "      <td>...</td>\n",
       "      <td>NaN</td>\n",
       "      <td>NaN</td>\n",
       "      <td>0.0</td>\n",
       "      <td>0.0</td>\n",
       "      <td>PGIS</td>\n",
       "      <td>-9</td>\n",
       "      <td>-9</td>\n",
       "      <td>0</td>\n",
       "      <td>-9</td>\n",
       "      <td>199706050003, 199706050004, 199706050005, 1997...</td>\n",
       "    </tr>\n",
       "    <tr>\n",
       "      <th>65533</th>\n",
       "      <td>199706050005</td>\n",
       "      <td>1997</td>\n",
       "      <td>6</td>\n",
       "      <td>5</td>\n",
       "      <td>0</td>\n",
       "      <td>90</td>\n",
       "      <td>Hungary</td>\n",
       "      <td>9</td>\n",
       "      <td>Eastern Europe</td>\n",
       "      <td>Budapest</td>\n",
       "      <td>...</td>\n",
       "      <td>NaN</td>\n",
       "      <td>NaN</td>\n",
       "      <td>0.0</td>\n",
       "      <td>0.0</td>\n",
       "      <td>PGIS</td>\n",
       "      <td>-9</td>\n",
       "      <td>-9</td>\n",
       "      <td>0</td>\n",
       "      <td>-9</td>\n",
       "      <td>199706050005, 199706050003, 199706050004, 1997...</td>\n",
       "    </tr>\n",
       "    <tr>\n",
       "      <th>65534</th>\n",
       "      <td>199706050006</td>\n",
       "      <td>1997</td>\n",
       "      <td>6</td>\n",
       "      <td>5</td>\n",
       "      <td>0</td>\n",
       "      <td>90</td>\n",
       "      <td>Hungary</td>\n",
       "      <td>9</td>\n",
       "      <td>Eastern Europe</td>\n",
       "      <td>Budapest</td>\n",
       "      <td>...</td>\n",
       "      <td>NaN</td>\n",
       "      <td>NaN</td>\n",
       "      <td>0.0</td>\n",
       "      <td>0.0</td>\n",
       "      <td>PGIS</td>\n",
       "      <td>-9</td>\n",
       "      <td>-9</td>\n",
       "      <td>0</td>\n",
       "      <td>-9</td>\n",
       "      <td>199706050006, 199706050003, 199706050004, 1997...</td>\n",
       "    </tr>\n",
       "  </tbody>\n",
       "</table>\n",
       "<p>65535 rows × 52 columns</p>\n",
       "</div>"
      ],
      "text/plain": [
       "            eventid  iyear  imonth  iday  extended  country  \\\n",
       "0      197000000001   1970       7     2         0       58   \n",
       "1      197000000002   1970       0     0         0      130   \n",
       "2      197001000001   1970       1     0         0      160   \n",
       "3      197001000002   1970       1     0         0       78   \n",
       "4      197001000003   1970       1     0         0      101   \n",
       "...             ...    ...     ...   ...       ...      ...   \n",
       "65530  199706050001   1997       6     5         0        6   \n",
       "65531  199706050003   1997       6     5         0       90   \n",
       "65532  199706050004   1997       6     5         0       90   \n",
       "65533  199706050005   1997       6     5         0       90   \n",
       "65534  199706050006   1997       6     5         0       90   \n",
       "\n",
       "              country_txt  region                   region_txt provstate  ...  \\\n",
       "0      Dominican Republic       2  Central America & Caribbean       NaN  ...   \n",
       "1                  Mexico       1                North America   Federal  ...   \n",
       "2             Philippines       5               Southeast Asia    Tarlac  ...   \n",
       "3                  Greece       8               Western Europe    Attica  ...   \n",
       "4                   Japan       4                    East Asia   Fukouka  ...   \n",
       "...                   ...     ...                          ...       ...  ...   \n",
       "65530             Algeria      10   Middle East & North Africa    Djelfa  ...   \n",
       "65531             Hungary       9               Eastern Europe  Budapest  ...   \n",
       "65532             Hungary       9               Eastern Europe  Budapest  ...   \n",
       "65533             Hungary       9               Eastern Europe  Budapest  ...   \n",
       "65534             Hungary       9               Eastern Europe  Budapest  ...   \n",
       "\n",
       "      propextent_txt  propvalue  ishostkid  ransom  dbsource  INT_LOG  \\\n",
       "0                NaN        NaN        0.0     0.0      PGIS        0   \n",
       "1                NaN        NaN        1.0     1.0      PGIS        0   \n",
       "2                NaN        NaN        0.0     0.0      PGIS       -9   \n",
       "3                NaN        NaN        0.0     0.0      PGIS       -9   \n",
       "4                NaN        NaN        0.0     0.0      PGIS       -9   \n",
       "...              ...        ...        ...     ...       ...      ...   \n",
       "65530            NaN        NaN        0.0     0.0      PGIS       -9   \n",
       "65531            NaN        NaN        0.0     0.0      PGIS       -9   \n",
       "65532            NaN        NaN        0.0     0.0      PGIS       -9   \n",
       "65533            NaN        NaN        0.0     0.0      PGIS       -9   \n",
       "65534            NaN        NaN        0.0     0.0      PGIS       -9   \n",
       "\n",
       "       INT_IDEO  INT_MISC  INT_ANY  \\\n",
       "0             0         0        0   \n",
       "1             1         1        1   \n",
       "2            -9         1        1   \n",
       "3            -9         1        1   \n",
       "4            -9         1        1   \n",
       "...         ...       ...      ...   \n",
       "65530        -9        -9       -9   \n",
       "65531        -9         0       -9   \n",
       "65532        -9         0       -9   \n",
       "65533        -9         0       -9   \n",
       "65534        -9         0       -9   \n",
       "\n",
       "                                                 related  \n",
       "0                                                    NaN  \n",
       "1                                                    NaN  \n",
       "2                                                    NaN  \n",
       "3                                                    NaN  \n",
       "4                                                    NaN  \n",
       "...                                                  ...  \n",
       "65530                                                NaN  \n",
       "65531  199706050003, 199706050004, 199706050004, 1997...  \n",
       "65532  199706050003, 199706050004, 199706050005, 1997...  \n",
       "65533  199706050005, 199706050003, 199706050004, 1997...  \n",
       "65534  199706050006, 199706050003, 199706050004, 1997...  \n",
       "\n",
       "[65535 rows x 52 columns]"
      ]
     },
     "execution_count": 33,
     "metadata": {},
     "output_type": "execute_result"
    }
   ],
   "source": [
    "df"
   ]
  },
  {
   "cell_type": "code",
   "execution_count": 37,
   "id": "6b53a200",
   "metadata": {},
   "outputs": [
    {
     "data": {
      "text/plain": [
       "Index(['eventid', 'iyear', 'imonth', 'iday', 'extended', 'country',\n",
       "       'country_txt', 'region', 'region_txt', 'provstate', 'city', 'latitude',\n",
       "       'longitude', 'specificity', 'vicinity', 'crit1', 'crit2', 'crit3',\n",
       "       'doubtterr', 'alternative', 'alternative_txt', 'multiple', 'success',\n",
       "       'suicide', 'attacktype1', 'attacktype1_txt', 'targtype1',\n",
       "       'targtype1_txt', 'targsubtype1', 'targsubtype1_txt', 'gname',\n",
       "       'guncertain1', 'individual', 'weaptype1', 'weaptype1_txt',\n",
       "       'weapsubtype1', 'weapsubtype1_txt', 'weapdetail', 'nkill', 'nwound',\n",
       "       'property', 'propextent', 'propextent_txt', 'propvalue', 'ishostkid',\n",
       "       'ransom', 'dbsource', 'INT_LOG', 'INT_IDEO', 'INT_MISC', 'INT_ANY',\n",
       "       'related'],\n",
       "      dtype='object')"
      ]
     },
     "execution_count": 37,
     "metadata": {},
     "output_type": "execute_result"
    }
   ],
   "source": [
    "df.columns"
   ]
  },
  {
   "cell_type": "markdown",
   "id": "bebceba1",
   "metadata": {},
   "source": [
    "# @ fill the null record in particuler columns(mode, mean and median)"
   ]
  },
  {
   "cell_type": "code",
   "execution_count": 38,
   "id": "a22d8d55",
   "metadata": {},
   "outputs": [
    {
     "data": {
      "text/plain": [
       "eventid                 0\n",
       "iyear                   0\n",
       "imonth                  0\n",
       "iday                    0\n",
       "extended                0\n",
       "country                 0\n",
       "country_txt             0\n",
       "region                  0\n",
       "region_txt              0\n",
       "provstate             372\n",
       "city                    0\n",
       "latitude             3476\n",
       "longitude            3477\n",
       "specificity             0\n",
       "vicinity                0\n",
       "crit1                   0\n",
       "crit2                   0\n",
       "crit3                   0\n",
       "doubtterr               0\n",
       "alternative         55184\n",
       "alternative_txt     55184\n",
       "multiple                0\n",
       "success                 0\n",
       "suicide                 0\n",
       "attacktype1             0\n",
       "attacktype1_txt         0\n",
       "targtype1               0\n",
       "targtype1_txt           0\n",
       "targsubtype1         3137\n",
       "targsubtype1_txt     3137\n",
       "gname                   0\n",
       "guncertain1             0\n",
       "individual              0\n",
       "weaptype1               0\n",
       "weaptype1_txt           0\n",
       "weapsubtype1        11096\n",
       "weapsubtype1_txt    11096\n",
       "weapdetail           6813\n",
       "nkill                6019\n",
       "nwound               8003\n",
       "property                0\n",
       "propextent          48334\n",
       "propextent_txt      48334\n",
       "propvalue           55458\n",
       "ishostkid             175\n",
       "ransom                382\n",
       "dbsource                0\n",
       "INT_LOG                 0\n",
       "INT_IDEO                0\n",
       "INT_MISC                0\n",
       "INT_ANY                 0\n",
       "related             58769\n",
       "dtype: int64"
      ]
     },
     "execution_count": 38,
     "metadata": {},
     "output_type": "execute_result"
    }
   ],
   "source": [
    "df.isnull().sum()"
   ]
  },
  {
   "cell_type": "code",
   "execution_count": 39,
   "id": "807db1f8",
   "metadata": {},
   "outputs": [],
   "source": [
    "# provstate columns have 372 missing record "
   ]
  },
  {
   "cell_type": "code",
   "execution_count": 41,
   "id": "b0a99f18",
   "metadata": {},
   "outputs": [
    {
     "data": {
      "text/plain": [
       "count                65163\n",
       "unique                1625\n",
       "top       Northern Ireland\n",
       "freq                  3458\n",
       "Name: provstate, dtype: object"
      ]
     },
     "execution_count": 41,
     "metadata": {},
     "output_type": "execute_result"
    }
   ],
   "source": [
    "df['provstate'].describe()"
   ]
  },
  {
   "cell_type": "code",
   "execution_count": 44,
   "id": "1262ad4b",
   "metadata": {},
   "outputs": [
    {
     "data": {
      "text/plain": [
       "'Northern Ireland'"
      ]
     },
     "execution_count": 44,
     "metadata": {},
     "output_type": "execute_result"
    }
   ],
   "source": [
    "df['provstate'].mode()[0]"
   ]
  },
  {
   "cell_type": "code",
   "execution_count": 46,
   "id": "6df6efde",
   "metadata": {},
   "outputs": [],
   "source": [
    "df['provstate']=df['provstate'].fillna(df['provstate'].mode()[0])\n"
   ]
  },
  {
   "cell_type": "markdown",
   "id": "ba9fa441",
   "metadata": {},
   "source": [
    "Now we succesfully fill the record in 'provstate' column."
   ]
  },
  {
   "cell_type": "code",
   "execution_count": 48,
   "id": "989d3009",
   "metadata": {},
   "outputs": [],
   "source": [
    "# latitude column have 3476 mising record"
   ]
  },
  {
   "cell_type": "code",
   "execution_count": 49,
   "id": "a87a3ee5",
   "metadata": {},
   "outputs": [
    {
     "data": {
      "text/plain": [
       "count    62059.000000\n",
       "mean        18.127411\n",
       "std         24.486707\n",
       "min        -53.154613\n",
       "25%          5.549162\n",
       "50%         15.047369\n",
       "75%         38.395649\n",
       "max         64.837778\n",
       "Name: latitude, dtype: float64"
      ]
     },
     "execution_count": 49,
     "metadata": {},
     "output_type": "execute_result"
    }
   ],
   "source": [
    "df['latitude'].describe()"
   ]
  },
  {
   "cell_type": "code",
   "execution_count": 52,
   "id": "71c157dd",
   "metadata": {},
   "outputs": [
    {
     "data": {
      "text/plain": [
       "<AxesSubplot:>"
      ]
     },
     "execution_count": 52,
     "metadata": {},
     "output_type": "execute_result"
    },
    {
     "data": {
      "image/png": "[encoded data removed]",
      "text/plain": [
       "<Figure size 432x288 with 1 Axes>"
      ]
     },
     "metadata": {
      "needs_background": "light"
     },
     "output_type": "display_data"
    }
   ],
   "source": [
    "df['latitude'].plot(kind='box')"
   ]
  },
  {
   "cell_type": "code",
   "execution_count": 53,
   "id": "cf3da214",
   "metadata": {},
   "outputs": [
    {
     "data": {
      "text/plain": [
       "18.12741056631656"
      ]
     },
     "execution_count": 53,
     "metadata": {},
     "output_type": "execute_result"
    }
   ],
   "source": [
    "df['latitude'].mean()"
   ]
  },
  {
   "cell_type": "code",
   "execution_count": 54,
   "id": "19900e32",
   "metadata": {},
   "outputs": [],
   "source": [
    "df['latitude']=df['latitude'].fillna(df['latitude'].mean())"
   ]
  },
  {
   "cell_type": "markdown",
   "id": "7958e664",
   "metadata": {},
   "source": [
    "Now we succesfully fill the record in 'latitude' column."
   ]
  },
  {
   "cell_type": "code",
   "execution_count": 56,
   "id": "4a4d749b",
   "metadata": {},
   "outputs": [],
   "source": [
    "# longitude column have 3477 missing record"
   ]
  },
  {
   "cell_type": "code",
   "execution_count": 59,
   "id": "4195e2cf",
   "metadata": {},
   "outputs": [
    {
     "data": {
      "text/plain": [
       "count    6.205800e+04\n",
       "mean    -1.402178e+03\n",
       "std      3.459691e+05\n",
       "min     -8.618590e+07\n",
       "25%     -7.569456e+01\n",
       "50%     -3.696263e+00\n",
       "75%      3.481189e+01\n",
       "max      1.784419e+02\n",
       "Name: longitude, dtype: float64"
      ]
     },
     "execution_count": 59,
     "metadata": {},
     "output_type": "execute_result"
    }
   ],
   "source": [
    "df['longitude'].describe()"
   ]
  },
  {
   "cell_type": "code",
   "execution_count": 63,
   "id": "7707f87a",
   "metadata": {},
   "outputs": [
    {
     "data": {
      "text/plain": [
       "-1402.1784917375455"
      ]
     },
     "execution_count": 63,
     "metadata": {},
     "output_type": "execute_result"
    }
   ],
   "source": [
    "df['longitude'].mean()"
   ]
  },
  {
   "cell_type": "code",
   "execution_count": 64,
   "id": "2b903d34",
   "metadata": {},
   "outputs": [],
   "source": [
    "df['longitude']=df['longitude'].fillna(df['longitude'].mean())"
   ]
  },
  {
   "cell_type": "markdown",
   "id": "7526bb6b",
   "metadata": {},
   "source": [
    "Now we succesfully fill the record in 'longitude' column."
   ]
  },
  {
   "cell_type": "code",
   "execution_count": null,
   "id": "7997e318",
   "metadata": {},
   "outputs": [],
   "source": [
    "#alternative column have55184 missing record so we can't distub the dataset so we can add there '1' nad bydefualt mean= 1.2"
   ]
  },
  {
   "cell_type": "code",
   "execution_count": 66,
   "id": "beec3b35",
   "metadata": {},
   "outputs": [
    {
     "data": {
      "text/plain": [
       "count    10351.000000\n",
       "mean         1.227031\n",
       "std          0.550667\n",
       "min          1.000000\n",
       "25%          1.000000\n",
       "50%          1.000000\n",
       "75%          1.000000\n",
       "max          5.000000\n",
       "Name: alternative, dtype: float64"
      ]
     },
     "execution_count": 66,
     "metadata": {},
     "output_type": "execute_result"
    }
   ],
   "source": [
    "df['alternative'].describe()"
   ]
  },
  {
   "cell_type": "code",
   "execution_count": 69,
   "id": "71770d1c",
   "metadata": {},
   "outputs": [
    {
     "data": {
      "text/plain": [
       "1.2270312047145204"
      ]
     },
     "execution_count": 69,
     "metadata": {},
     "output_type": "execute_result"
    }
   ],
   "source": [
    "df['alternative'].mean()"
   ]
  },
  {
   "cell_type": "code",
   "execution_count": 71,
   "id": "9474084d",
   "metadata": {},
   "outputs": [],
   "source": [
    "df['alternative']=df['alternative'].fillna(df['alternative'].mean())"
   ]
  },
  {
   "cell_type": "markdown",
   "id": "f5d2e703",
   "metadata": {},
   "source": [
    "Now we succesfully fill the record in 'alternative' column."
   ]
  },
  {
   "cell_type": "code",
   "execution_count": 73,
   "id": "9c7ec164",
   "metadata": {},
   "outputs": [],
   "source": [
    "# alternative_txt column have 55184 missing record."
   ]
  },
  {
   "cell_type": "code",
   "execution_count": 74,
   "id": "24ebd60f",
   "metadata": {},
   "outputs": [
    {
     "data": {
      "text/plain": [
       "count                          10351\n",
       "unique                             5\n",
       "top       Insurgency/Guerilla Action\n",
       "freq                            8658\n",
       "Name: alternative_txt, dtype: object"
      ]
     },
     "execution_count": 74,
     "metadata": {},
     "output_type": "execute_result"
    }
   ],
   "source": [
    "df['alternative_txt'].describe()"
   ]
  },
  {
   "cell_type": "code",
   "execution_count": 77,
   "id": "53590b48",
   "metadata": {},
   "outputs": [
    {
     "data": {
      "text/plain": [
       "'Insurgency/Guerilla Action'"
      ]
     },
     "execution_count": 77,
     "metadata": {},
     "output_type": "execute_result"
    }
   ],
   "source": [
    "df['alternative_txt'].mode()[0]"
   ]
  },
  {
   "cell_type": "code",
   "execution_count": null,
   "id": "dc1b97f8",
   "metadata": {},
   "outputs": [],
   "source": [
    "df['alternative_txt']=df['alternative_txt'].fillna(df['alternative_txt'].mode()[0])"
   ]
  },
  {
   "cell_type": "markdown",
   "id": "f1ecf73f",
   "metadata": {},
   "source": [
    "Now we succesfully fill the record in 'alternative_txt' column."
   ]
  },
  {
   "cell_type": "code",
   "execution_count": 78,
   "id": "edbf582a",
   "metadata": {},
   "outputs": [],
   "source": [
    "# targsubtype1 column have 3137 missing Record."
   ]
  },
  {
   "cell_type": "code",
   "execution_count": 79,
   "id": "a66dd3c3",
   "metadata": {},
   "outputs": [
    {
     "data": {
      "text/plain": [
       "count    62398.000000\n",
       "mean        45.330043\n",
       "std         33.158479\n",
       "min          1.000000\n",
       "25%         21.000000\n",
       "50%         29.000000\n",
       "75%         75.000000\n",
       "max        113.000000\n",
       "Name: targsubtype1, dtype: float64"
      ]
     },
     "execution_count": 79,
     "metadata": {},
     "output_type": "execute_result"
    }
   ],
   "source": [
    "df['targsubtype1'].describe()"
   ]
  },
  {
   "cell_type": "code",
   "execution_count": 80,
   "id": "1880c2d7",
   "metadata": {},
   "outputs": [
    {
     "data": {
      "text/plain": [
       "45.33004262957146"
      ]
     },
     "execution_count": 80,
     "metadata": {},
     "output_type": "execute_result"
    }
   ],
   "source": [
    "df['targsubtype1'].mean()"
   ]
  },
  {
   "cell_type": "code",
   "execution_count": 81,
   "id": "08c0cdec",
   "metadata": {},
   "outputs": [],
   "source": [
    "df['targsubtype1']=df['targsubtype1'].fillna(df['targsubtype1'].mean())"
   ]
  },
  {
   "cell_type": "markdown",
   "id": "ba3cb01f",
   "metadata": {},
   "source": [
    "Now we succesfully fill the record in 'targsubtype1' column."
   ]
  },
  {
   "cell_type": "code",
   "execution_count": 82,
   "id": "e50d53d2",
   "metadata": {},
   "outputs": [],
   "source": [
    "# targsubtype1_txt field have 3137 missing record."
   ]
  },
  {
   "cell_type": "code",
   "execution_count": 83,
   "id": "e4c03afe",
   "metadata": {},
   "outputs": [
    {
     "data": {
      "text/plain": [
       "count                           62398\n",
       "unique                            110\n",
       "top       Military Unit/Patrol/Convoy\n",
       "freq                             4704\n",
       "Name: targsubtype1_txt, dtype: object"
      ]
     },
     "execution_count": 83,
     "metadata": {},
     "output_type": "execute_result"
    }
   ],
   "source": [
    "df['targsubtype1_txt'].describe()"
   ]
  },
  {
   "cell_type": "code",
   "execution_count": 85,
   "id": "1d43eefd",
   "metadata": {},
   "outputs": [
    {
     "data": {
      "text/plain": [
       "'Military Unit/Patrol/Convoy'"
      ]
     },
     "execution_count": 85,
     "metadata": {},
     "output_type": "execute_result"
    }
   ],
   "source": [
    "df['targsubtype1_txt'].mode()[0]"
   ]
  },
  {
   "cell_type": "code",
   "execution_count": 86,
   "id": "24e4deb0",
   "metadata": {},
   "outputs": [],
   "source": [
    "df['targsubtype1_txt']=df['targsubtype1_txt'].fillna(df['targsubtype1_txt'].mode()[0])"
   ]
  },
  {
   "cell_type": "markdown",
   "id": "09b39d1d",
   "metadata": {},
   "source": [
    "Now we succesfully fill the record in 'targsubtype1_txt' column."
   ]
  },
  {
   "cell_type": "code",
   "execution_count": null,
   "id": "e59f7750",
   "metadata": {},
   "outputs": [],
   "source": [
    "# alternative_txt field have 55184 missing record."
   ]
  },
  {
   "cell_type": "code",
   "execution_count": 88,
   "id": "a826eb1c",
   "metadata": {},
   "outputs": [
    {
     "data": {
      "text/plain": [
       "count                          10351\n",
       "unique                             5\n",
       "top       Insurgency/Guerilla Action\n",
       "freq                            8658\n",
       "Name: alternative_txt, dtype: object"
      ]
     },
     "execution_count": 88,
     "metadata": {},
     "output_type": "execute_result"
    }
   ],
   "source": [
    "df['alternative_txt'].describe()"
   ]
  },
  {
   "cell_type": "code",
   "execution_count": 90,
   "id": "b4742ce8",
   "metadata": {},
   "outputs": [
    {
     "data": {
      "text/plain": [
       "'Insurgency/Guerilla Action'"
      ]
     },
     "execution_count": 90,
     "metadata": {},
     "output_type": "execute_result"
    }
   ],
   "source": [
    "df['alternative_txt'].mode()[0]"
   ]
  },
  {
   "cell_type": "code",
   "execution_count": 91,
   "id": "15812398",
   "metadata": {},
   "outputs": [],
   "source": [
    "df['alternative_txt']=df['alternative_txt'].fillna(df['alternative_txt'].mode()[0])"
   ]
  },
  {
   "cell_type": "markdown",
   "id": "e3034d89",
   "metadata": {},
   "source": [
    "Now we succesfully fill the record in 'alternative_txt' column."
   ]
  },
  {
   "cell_type": "code",
   "execution_count": 93,
   "id": "ed6487fd",
   "metadata": {},
   "outputs": [],
   "source": [
    "# related field have 58769 missing record."
   ]
  },
  {
   "cell_type": "code",
   "execution_count": 94,
   "id": "410a6869",
   "metadata": {},
   "outputs": [
    {
     "data": {
      "text/plain": [
       "count                                                  6766\n",
       "unique                                                 5500\n",
       "top       197209190001, 197209190002, 197209190003, 1972...\n",
       "freq                                                     74\n",
       "Name: related, dtype: object"
      ]
     },
     "execution_count": 94,
     "metadata": {},
     "output_type": "execute_result"
    }
   ],
   "source": [
    "df['related'].describe()"
   ]
  },
  {
   "cell_type": "code",
   "execution_count": 96,
   "id": "048360de",
   "metadata": {},
   "outputs": [
    {
     "data": {
      "text/plain": [
       "'197209190001, 197209190002, 197209190003, 197209190004, 197209190005, 197209190006, 197209190007, 197209190008, 197209190009, 197209190010, 197209190011, 197209190012, 197209190013, 197209190014, 197209190015, 197209200003, 197209200004, 197209200005, 197209200006, 197209200007, 197209200008, 197209200009, 197209200010, 197209200011, 197209200012, 197209200013, 197209200014, 197209200015, 197209200016, 197209200017, 197209200018, 197209200019, 197209200020, 197209200021, 197209200022, 197209200023, 197209200024, 197209200025, 197209200026, 197209200027, 197209200028, 197209210002, 197209210003, 197209210004, 197209210005, 197209210006, 197209210007, 197209210008, 197209210009, 197209210010, 197209210011, 197209210012, 197209220003, 197209220004, 197209230002, 197209230003, 197209230004, 197209230005, 197209230006, 197209250001, 197209250002, 197209250003, 197209250004, 197209250005, 197209280002, 197209280003, 197209280004, 197209280005, 197209280006, 197209280007, 197209280008, 197209280009, 197209280010, 197209280011'"
      ]
     },
     "execution_count": 96,
     "metadata": {},
     "output_type": "execute_result"
    }
   ],
   "source": [
    "df['related'].mode()[0]"
   ]
  },
  {
   "cell_type": "code",
   "execution_count": 97,
   "id": "7964635f",
   "metadata": {},
   "outputs": [],
   "source": [
    "df['related']=df['related'].fillna(1)"
   ]
  },
  {
   "cell_type": "code",
   "execution_count": null,
   "id": "db7bd2f7",
   "metadata": {},
   "outputs": [],
   "source": [
    "# weapsubtype1 field have 11096 missing record."
   ]
  },
  {
   "cell_type": "code",
   "execution_count": 99,
   "id": "cd1dd38f",
   "metadata": {},
   "outputs": [
    {
     "data": {
      "text/plain": [
       "count    54439.000000\n",
       "mean        10.019159\n",
       "std          7.087300\n",
       "min          1.000000\n",
       "25%          2.000000\n",
       "50%         11.000000\n",
       "75%         16.000000\n",
       "max         31.000000\n",
       "Name: weapsubtype1, dtype: float64"
      ]
     },
     "execution_count": 99,
     "metadata": {},
     "output_type": "execute_result"
    }
   ],
   "source": [
    "df['weapsubtype1'].describe()"
   ]
  },
  {
   "cell_type": "code",
   "execution_count": 100,
   "id": "f51747f4",
   "metadata": {},
   "outputs": [
    {
     "data": {
      "text/plain": [
       "10.01915905876302"
      ]
     },
     "execution_count": 100,
     "metadata": {},
     "output_type": "execute_result"
    }
   ],
   "source": [
    "df['weapsubtype1'].mean()"
   ]
  },
  {
   "cell_type": "code",
   "execution_count": 101,
   "id": "0cc2783e",
   "metadata": {},
   "outputs": [],
   "source": [
    "df['weapsubtype1']=df['weapsubtype1'].fillna(df['weapsubtype1'].mean())"
   ]
  },
  {
   "cell_type": "markdown",
   "id": "3cfdaa58",
   "metadata": {},
   "source": [
    "Now we succesfully fill the record in 'weapsubtype1' column."
   ]
  },
  {
   "cell_type": "code",
   "execution_count": null,
   "id": "27573574",
   "metadata": {},
   "outputs": [],
   "source": [
    "# weapsubtype1_txt field have 11096 missing record."
   ]
  },
  {
   "cell_type": "code",
   "execution_count": 103,
   "id": "3f49b460",
   "metadata": {},
   "outputs": [
    {
     "data": {
      "text/plain": [
       "count                      54439\n",
       "unique                        29\n",
       "top       Unknown Explosive Type\n",
       "freq                       22381\n",
       "Name: weapsubtype1_txt, dtype: object"
      ]
     },
     "execution_count": 103,
     "metadata": {},
     "output_type": "execute_result"
    }
   ],
   "source": [
    "df['weapsubtype1_txt'].describe()"
   ]
  },
  {
   "cell_type": "code",
   "execution_count": 104,
   "id": "e27b0ca7",
   "metadata": {},
   "outputs": [
    {
     "data": {
      "text/plain": [
       "'Unknown Explosive Type'"
      ]
     },
     "execution_count": 104,
     "metadata": {},
     "output_type": "execute_result"
    }
   ],
   "source": [
    "df['weapsubtype1_txt'].mode()[0]"
   ]
  },
  {
   "cell_type": "code",
   "execution_count": 105,
   "id": "db024909",
   "metadata": {},
   "outputs": [],
   "source": [
    "df['weapsubtype1_txt']=df['weapsubtype1_txt'].fillna(df['weapsubtype1_txt'].mode()[0])"
   ]
  },
  {
   "cell_type": "markdown",
   "id": "63946cc7",
   "metadata": {},
   "source": [
    "Now we succesfully fill the record in 'weapsubtype1_txt' column."
   ]
  },
  {
   "cell_type": "code",
   "execution_count": null,
   "id": "1fe286d0",
   "metadata": {},
   "outputs": [],
   "source": [
    "# weapdetail field have 6813 missing record."
   ]
  },
  {
   "cell_type": "code",
   "execution_count": 107,
   "id": "c1450cc3",
   "metadata": {},
   "outputs": [
    {
     "data": {
      "text/plain": [
       "count         58722\n",
       "unique         2356\n",
       "top       Explosive\n",
       "freq          20499\n",
       "Name: weapdetail, dtype: object"
      ]
     },
     "execution_count": 107,
     "metadata": {},
     "output_type": "execute_result"
    }
   ],
   "source": [
    "df['weapdetail'].describe()"
   ]
  },
  {
   "cell_type": "code",
   "execution_count": 108,
   "id": "56b896e6",
   "metadata": {},
   "outputs": [
    {
     "data": {
      "text/plain": [
       "'Explosive'"
      ]
     },
     "execution_count": 108,
     "metadata": {},
     "output_type": "execute_result"
    }
   ],
   "source": [
    "df['weapdetail'].mode()[0]"
   ]
  },
  {
   "cell_type": "code",
   "execution_count": 109,
   "id": "92665c79",
   "metadata": {},
   "outputs": [],
   "source": [
    "df['weapdetail']=df['weapdetail'].fillna(df['weapdetail'].mode()[0])"
   ]
  },
  {
   "cell_type": "markdown",
   "id": "cc78b865",
   "metadata": {},
   "source": [
    "Now we succesfully fill the record in 'weapdetail' column."
   ]
  },
  {
   "cell_type": "code",
   "execution_count": 111,
   "id": "0dad2abb",
   "metadata": {},
   "outputs": [],
   "source": [
    "# nkill field have 6019 missing record"
   ]
  },
  {
   "cell_type": "code",
   "execution_count": 112,
   "id": "7611e732",
   "metadata": {},
   "outputs": [
    {
     "data": {
      "text/plain": [
       "count    59516.000000\n",
       "mean         2.087338\n",
       "std          9.658007\n",
       "min          0.000000\n",
       "25%          0.000000\n",
       "50%          0.000000\n",
       "75%          1.000000\n",
       "max       1180.000000\n",
       "Name: nkill, dtype: float64"
      ]
     },
     "execution_count": 112,
     "metadata": {},
     "output_type": "execute_result"
    }
   ],
   "source": [
    "df['nkill'].describe()"
   ]
  },
  {
   "cell_type": "code",
   "execution_count": 116,
   "id": "c08eae92",
   "metadata": {},
   "outputs": [
    {
     "data": {
      "text/plain": [
       "<AxesSubplot:>"
      ]
     },
     "execution_count": 116,
     "metadata": {},
     "output_type": "execute_result"
    },
    {
     "data": {
      "image/png": "[encoded data removed]",
      "text/plain": [
       "<Figure size 432x288 with 1 Axes>"
      ]
     },
     "metadata": {
      "needs_background": "light"
     },
     "output_type": "display_data"
    }
   ],
   "source": [
    "df['nkill'].plot(kind='box')"
   ]
  },
  {
   "cell_type": "code",
   "execution_count": 117,
   "id": "a3ced50e",
   "metadata": {},
   "outputs": [
    {
     "data": {
      "text/plain": [
       "2.087337858727065"
      ]
     },
     "execution_count": 117,
     "metadata": {},
     "output_type": "execute_result"
    }
   ],
   "source": [
    "df['nkill'].mean()"
   ]
  },
  {
   "cell_type": "code",
   "execution_count": 118,
   "id": "22299fb3",
   "metadata": {},
   "outputs": [],
   "source": [
    "df['nkill']=df['nkill'].fillna(df['nkill'].mean())"
   ]
  },
  {
   "cell_type": "markdown",
   "id": "ffedfefe",
   "metadata": {},
   "source": [
    "Now we succesfully fill the record in 'nkill' column."
   ]
  },
  {
   "cell_type": "code",
   "execution_count": 120,
   "id": "ec52bac0",
   "metadata": {},
   "outputs": [],
   "source": [
    "# nwound field have 8003 missing record."
   ]
  },
  {
   "cell_type": "code",
   "execution_count": 121,
   "id": "6da28eee",
   "metadata": {},
   "outputs": [
    {
     "data": {
      "text/plain": [
       "count    57532.000000\n",
       "mean         2.031200\n",
       "std         26.307791\n",
       "min          0.000000\n",
       "25%          0.000000\n",
       "50%          0.000000\n",
       "75%          0.000000\n",
       "max       5500.000000\n",
       "Name: nwound, dtype: float64"
      ]
     },
     "execution_count": 121,
     "metadata": {},
     "output_type": "execute_result"
    }
   ],
   "source": [
    "df['nwound'].describe()"
   ]
  },
  {
   "cell_type": "code",
   "execution_count": 122,
   "id": "d984e1d1",
   "metadata": {},
   "outputs": [
    {
     "data": {
      "text/plain": [
       "<AxesSubplot:>"
      ]
     },
     "execution_count": 122,
     "metadata": {},
     "output_type": "execute_result"
    },
    {
     "data": {
      "image/png": "[encoded data removed]",
      "text/plain": [
       "<Figure size 432x288 with 1 Axes>"
      ]
     },
     "metadata": {
      "needs_background": "light"
     },
     "output_type": "display_data"
    }
   ],
   "source": [
    "df['nwound'].plot(kind='box')"
   ]
  },
  {
   "cell_type": "code",
   "execution_count": 125,
   "id": "965e6f88",
   "metadata": {},
   "outputs": [
    {
     "data": {
      "text/plain": [
       "2.03120002781061"
      ]
     },
     "execution_count": 125,
     "metadata": {},
     "output_type": "execute_result"
    }
   ],
   "source": [
    "df['nwound'].mean()"
   ]
  },
  {
   "cell_type": "code",
   "execution_count": 126,
   "id": "aed4eee5",
   "metadata": {},
   "outputs": [],
   "source": [
    "df['nwound']=df['nwound'].fillna(df['nwound'].mean())"
   ]
  },
  {
   "cell_type": "markdown",
   "id": "4be82398",
   "metadata": {},
   "source": [
    "Now we succesfully fill the record in 'nwound' column."
   ]
  },
  {
   "cell_type": "code",
   "execution_count": null,
   "id": "a301de5f",
   "metadata": {},
   "outputs": [],
   "source": [
    "# propextent field have 48334 missing record"
   ]
  },
  {
   "cell_type": "code",
   "execution_count": 128,
   "id": "e1a15a69",
   "metadata": {},
   "outputs": [
    {
     "data": {
      "text/plain": [
       "count    17201.000000\n",
       "mean         3.378525\n",
       "std          0.518967\n",
       "min          1.000000\n",
       "25%          3.000000\n",
       "50%          3.000000\n",
       "75%          4.000000\n",
       "max          4.000000\n",
       "Name: propextent, dtype: float64"
      ]
     },
     "execution_count": 128,
     "metadata": {},
     "output_type": "execute_result"
    }
   ],
   "source": [
    "df['propextent'].describe()"
   ]
  },
  {
   "cell_type": "code",
   "execution_count": 129,
   "id": "e575f84e",
   "metadata": {},
   "outputs": [
    {
     "data": {
      "text/plain": [
       "3.3785245043892798"
      ]
     },
     "execution_count": 129,
     "metadata": {},
     "output_type": "execute_result"
    }
   ],
   "source": [
    "df['propextent'].mean()"
   ]
  },
  {
   "cell_type": "code",
   "execution_count": 130,
   "id": "05dda1ba",
   "metadata": {},
   "outputs": [],
   "source": [
    "df['propextent']=df['propextent'].fillna(df['propextent'].mean())"
   ]
  },
  {
   "cell_type": "markdown",
   "id": "6cd8917e",
   "metadata": {},
   "source": [
    "Now we succesfully fill the record in 'propextent' column."
   ]
  },
  {
   "cell_type": "code",
   "execution_count": 132,
   "id": "522e63ab",
   "metadata": {},
   "outputs": [],
   "source": [
    "# propextent_txt field have 48334 missing record."
   ]
  },
  {
   "cell_type": "code",
   "execution_count": 133,
   "id": "7919dbd6",
   "metadata": {},
   "outputs": [
    {
     "data": {
      "text/plain": [
       "count                           17201\n",
       "unique                              4\n",
       "top       Minor (likely < $1 million)\n",
       "freq                            10110\n",
       "Name: propextent_txt, dtype: object"
      ]
     },
     "execution_count": 133,
     "metadata": {},
     "output_type": "execute_result"
    }
   ],
   "source": [
    "df['propextent_txt'].describe()"
   ]
  },
  {
   "cell_type": "code",
   "execution_count": 135,
   "id": "2f2f642a",
   "metadata": {},
   "outputs": [
    {
     "data": {
      "text/plain": [
       "'Minor (likely < $1 million)'"
      ]
     },
     "execution_count": 135,
     "metadata": {},
     "output_type": "execute_result"
    }
   ],
   "source": [
    "df['propextent_txt'].mode()[0]"
   ]
  },
  {
   "cell_type": "code",
   "execution_count": 136,
   "id": "45317511",
   "metadata": {},
   "outputs": [],
   "source": [
    "df['propextent_txt']=df['propextent_txt'].fillna(df['propextent_txt'].mode()[0])"
   ]
  },
  {
   "cell_type": "markdown",
   "id": "e12785e7",
   "metadata": {},
   "source": [
    "Now we succesfully fill the record in 'propextent_txt' column."
   ]
  },
  {
   "cell_type": "code",
   "execution_count": 138,
   "id": "18fe7341",
   "metadata": {},
   "outputs": [],
   "source": [
    "# propvalue field have 55458 missing record."
   ]
  },
  {
   "cell_type": "code",
   "execution_count": 139,
   "id": "884a8bc6",
   "metadata": {},
   "outputs": [
    {
     "data": {
      "text/plain": [
       "count    1.007700e+04\n",
       "mean     6.979057e+05\n",
       "std      3.027607e+07\n",
       "min     -9.900000e+01\n",
       "25%      5.000000e+03\n",
       "50%      2.000000e+04\n",
       "75%      5.000000e+04\n",
       "max      2.700000e+09\n",
       "Name: propvalue, dtype: float64"
      ]
     },
     "execution_count": 139,
     "metadata": {},
     "output_type": "execute_result"
    }
   ],
   "source": [
    "df['propvalue'].describe()"
   ]
  },
  {
   "cell_type": "code",
   "execution_count": 140,
   "id": "bf894f71",
   "metadata": {},
   "outputs": [
    {
     "data": {
      "text/plain": [
       "697905.7439535657"
      ]
     },
     "execution_count": 140,
     "metadata": {},
     "output_type": "execute_result"
    }
   ],
   "source": [
    "df['propvalue'].mean()"
   ]
  },
  {
   "cell_type": "code",
   "execution_count": 141,
   "id": "c162afc4",
   "metadata": {},
   "outputs": [],
   "source": [
    "df['propvalue']=df['propvalue'].fillna(df['propvalue'].mean())"
   ]
  },
  {
   "cell_type": "markdown",
   "id": "1f98284e",
   "metadata": {},
   "source": [
    "Now we succesfully fill the record in 'propvalue' column."
   ]
  },
  {
   "cell_type": "code",
   "execution_count": 143,
   "id": "020721fa",
   "metadata": {},
   "outputs": [],
   "source": [
    "# ishostkid field have 175 missing record."
   ]
  },
  {
   "cell_type": "code",
   "execution_count": 144,
   "id": "97c06dd4",
   "metadata": {},
   "outputs": [
    {
     "data": {
      "text/plain": [
       "count    65360.000000\n",
       "mean         0.061016\n",
       "std          0.239361\n",
       "min          0.000000\n",
       "25%          0.000000\n",
       "50%          0.000000\n",
       "75%          0.000000\n",
       "max          1.000000\n",
       "Name: ishostkid, dtype: float64"
      ]
     },
     "execution_count": 144,
     "metadata": {},
     "output_type": "execute_result"
    }
   ],
   "source": [
    "df['ishostkid'].describe()"
   ]
  },
  {
   "cell_type": "code",
   "execution_count": 147,
   "id": "e1202e15",
   "metadata": {},
   "outputs": [
    {
     "data": {
      "text/plain": [
       "0.06101591187270502"
      ]
     },
     "execution_count": 147,
     "metadata": {},
     "output_type": "execute_result"
    }
   ],
   "source": [
    "df['ishostkid'].mean()"
   ]
  },
  {
   "cell_type": "code",
   "execution_count": 148,
   "id": "91873ff9",
   "metadata": {},
   "outputs": [],
   "source": [
    "df['ishostkid']=df['ishostkid'].fillna(df['ishostkid'].mean())"
   ]
  },
  {
   "cell_type": "markdown",
   "id": "64f0db10",
   "metadata": {},
   "source": [
    "Now we succesfully fill the record in 'ishostkid' column."
   ]
  },
  {
   "cell_type": "code",
   "execution_count": null,
   "id": "f4bc6245",
   "metadata": {},
   "outputs": [],
   "source": [
    "# ransom field have 382 missing record."
   ]
  },
  {
   "cell_type": "code",
   "execution_count": 150,
   "id": "fec4621f",
   "metadata": {},
   "outputs": [
    {
     "data": {
      "text/plain": [
       "count    65153.000000\n",
       "mean         0.010299\n",
       "std          0.100960\n",
       "min          0.000000\n",
       "25%          0.000000\n",
       "50%          0.000000\n",
       "75%          0.000000\n",
       "max          1.000000\n",
       "Name: ransom, dtype: float64"
      ]
     },
     "execution_count": 150,
     "metadata": {},
     "output_type": "execute_result"
    }
   ],
   "source": [
    "df['ransom'].describe()"
   ]
  },
  {
   "cell_type": "code",
   "execution_count": 151,
   "id": "f2f2d6a3",
   "metadata": {},
   "outputs": [
    {
     "data": {
      "text/plain": [
       "0.010298835049805841"
      ]
     },
     "execution_count": 151,
     "metadata": {},
     "output_type": "execute_result"
    }
   ],
   "source": [
    "df['ransom'].mean()"
   ]
  },
  {
   "cell_type": "code",
   "execution_count": 152,
   "id": "17a9b8a5",
   "metadata": {},
   "outputs": [],
   "source": [
    "df['ransom']=df['ransom'].fillna(df['ransom'].mean())"
   ]
  },
  {
   "cell_type": "markdown",
   "id": "325ee035",
   "metadata": {},
   "source": [
    "Now we succesfully fill the record in 'ransom' column."
   ]
  },
  {
   "cell_type": "code",
   "execution_count": 153,
   "id": "c3c10721",
   "metadata": {},
   "outputs": [
    {
     "data": {
      "text/plain": [
       "eventid             0\n",
       "iyear               0\n",
       "imonth              0\n",
       "iday                0\n",
       "extended            0\n",
       "country             0\n",
       "country_txt         0\n",
       "region              0\n",
       "region_txt          0\n",
       "provstate           0\n",
       "city                0\n",
       "latitude            0\n",
       "longitude           0\n",
       "specificity         0\n",
       "vicinity            0\n",
       "crit1               0\n",
       "crit2               0\n",
       "crit3               0\n",
       "doubtterr           0\n",
       "alternative         0\n",
       "alternative_txt     0\n",
       "multiple            0\n",
       "success             0\n",
       "suicide             0\n",
       "attacktype1         0\n",
       "attacktype1_txt     0\n",
       "targtype1           0\n",
       "targtype1_txt       0\n",
       "targsubtype1        0\n",
       "targsubtype1_txt    0\n",
       "gname               0\n",
       "guncertain1         0\n",
       "individual          0\n",
       "weaptype1           0\n",
       "weaptype1_txt       0\n",
       "weapsubtype1        0\n",
       "weapsubtype1_txt    0\n",
       "weapdetail          0\n",
       "nkill               0\n",
       "nwound              0\n",
       "property            0\n",
       "propextent          0\n",
       "propextent_txt      0\n",
       "propvalue           0\n",
       "ishostkid           0\n",
       "ransom              0\n",
       "dbsource            0\n",
       "INT_LOG             0\n",
       "INT_IDEO            0\n",
       "INT_MISC            0\n",
       "INT_ANY             0\n",
       "related             0\n",
       "dtype: int64"
      ]
     },
     "execution_count": 153,
     "metadata": {},
     "output_type": "execute_result"
    }
   ],
   "source": [
    "df.isnull().sum()"
   ]
  },
  {
   "cell_type": "markdown",
   "id": "1144cd31",
   "metadata": {},
   "source": [
    "# Now we finished our fill null records."
   ]
  },
  {
   "cell_type": "code",
   "execution_count": null,
   "id": "fa7e1cd5",
   "metadata": {},
   "outputs": [],
   "source": []
  }
 ],
 "metadata": {
  "kernelspec": {
   "display_name": "Python 3 (ipykernel)",
   "language": "python",
   "name": "python3"
  },
  "language_info": {
   "codemirror_mode": {
    "name": "ipython",
    "version": 3
   },
   "file_extension": ".py",
   "mimetype": "text/x-python",
   "name": "python",
   "nbconvert_exporter": "python",
   "pygments_lexer": "ipython3",
   "version": "3.9.12"
  }
 },
 "nbformat": 4,
 "nbformat_minor": 5
}
